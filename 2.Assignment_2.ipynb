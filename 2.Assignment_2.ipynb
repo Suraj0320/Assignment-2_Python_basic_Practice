{
 "cells": [
  {
   "cell_type": "markdown",
   "id": "b1d4ef0c-41c0-450e-a6dd-2c15d1084f59",
   "metadata": {},
   "source": [
    "TOPIC: String Based Assignment Problem"
   ]
  },
  {
   "cell_type": "markdown",
   "id": "4fa0872e-d16b-4918-9890-d8f1c93bb69e",
   "metadata": {},
   "source": [
    "1. Write a program to reverse a string."
   ]
  },
  {
   "cell_type": "code",
   "execution_count": 1,
   "id": "6e6fc9d7-1730-443f-93a4-6d14b14331c8",
   "metadata": {},
   "outputs": [
    {
     "name": "stdin",
     "output_type": "stream",
     "text": [
      "Enter the String Suraj\n"
     ]
    },
    {
     "name": "stdout",
     "output_type": "stream",
     "text": [
      "jaruS\n"
     ]
    }
   ],
   "source": [
    "str = input(\"Enter the String\")\n",
    "reverse = str[::-1]\n",
    "print(reverse)"
   ]
  },
  {
   "cell_type": "markdown",
   "id": "6ef236ae-4c93-421f-8f4f-f8bf311b9b64",
   "metadata": {},
   "source": [
    "2. Check if a string is a palindrome."
   ]
  },
  {
   "cell_type": "code",
   "execution_count": 2,
   "id": "d61e4e08-0754-41c8-8641-d9c1dafc7b89",
   "metadata": {},
   "outputs": [
    {
     "name": "stdin",
     "output_type": "stream",
     "text": [
      "Enter the String sos\n"
     ]
    },
    {
     "name": "stdout",
     "output_type": "stream",
     "text": [
      "String is Palindrome\n"
     ]
    }
   ],
   "source": [
    "str = input(\"Enter the String\")\n",
    "if str == str[::-1]:\n",
    "    print(\"String is Palindrome\")\n",
    "else:\n",
    "    print(\"String is not Palindrome\")        "
   ]
  },
  {
   "cell_type": "markdown",
   "id": "2bcd1887-1fc2-427d-aa2b-183578dc6773",
   "metadata": {},
   "source": [
    "3. Convert a string to uppercase."
   ]
  },
  {
   "cell_type": "code",
   "execution_count": 3,
   "id": "25974b43-a918-4310-ad5d-1b9d8c358579",
   "metadata": {},
   "outputs": [
    {
     "data": {
      "text/plain": [
       "'SURAJ'"
      ]
     },
     "execution_count": 3,
     "metadata": {},
     "output_type": "execute_result"
    }
   ],
   "source": [
    "str = \"suraj\"\n",
    "str.upper()"
   ]
  },
  {
   "cell_type": "markdown",
   "id": "68f53f44-5020-4c77-87d1-095b472de5ca",
   "metadata": {},
   "source": [
    "4. Convert a string to lowercase."
   ]
  },
  {
   "cell_type": "code",
   "execution_count": 4,
   "id": "67e44e59-3d88-4813-bf98-cdb45e6ecada",
   "metadata": {},
   "outputs": [
    {
     "data": {
      "text/plain": [
       "'suraj'"
      ]
     },
     "execution_count": 4,
     "metadata": {},
     "output_type": "execute_result"
    }
   ],
   "source": [
    "str = \"SURAJ\"\n",
    "str.lower()"
   ]
  },
  {
   "cell_type": "markdown",
   "id": "bb9d7303-de26-43af-8ece-ef8eba94663e",
   "metadata": {},
   "source": [
    "5. Count the number of vowels in a string."
   ]
  },
  {
   "cell_type": "code",
   "execution_count": 5,
   "id": "b95cc2c8-1e02-4245-af48-95b7cf83d851",
   "metadata": {},
   "outputs": [
    {
     "name": "stdout",
     "output_type": "stream",
     "text": [
      "The total numbers of vowels :  5\n"
     ]
    }
   ],
   "source": [
    "str = \"My Name is Suraj\"\n",
    "vowels = 0\n",
    "\n",
    "for char in str:\n",
    "    if char in \"aeiouAEIOU\":\n",
    "        vowels = vowels + 1\n",
    "\n",
    "print(\"The total numbers of vowels : \",vowels)"
   ]
  },
  {
   "cell_type": "markdown",
   "id": "ff785864-ea54-482c-af1f-844e31ba1e72",
   "metadata": {},
   "source": [
    "6. Count the number of consonants in a string."
   ]
  },
  {
   "cell_type": "code",
   "execution_count": 6,
   "id": "ffb64e58-eb8c-4277-b6c3-c6fe0cddfe40",
   "metadata": {},
   "outputs": [
    {
     "name": "stdout",
     "output_type": "stream",
     "text": [
      "The number of consonants :  10\n"
     ]
    }
   ],
   "source": [
    "consonants = \"SURAJPATIL\"\n",
    "tot_count = 0\n",
    "\n",
    "for char in consonants:\n",
    "    tot_count = tot_count + 1\n",
    "    \n",
    "print(\"The number of consonants : \",tot_count)"
   ]
  },
  {
   "cell_type": "markdown",
   "id": "2cb50434-4932-4b60-817c-f23a995fe4d1",
   "metadata": {},
   "source": [
    "7. Remove all whitespaces from a string."
   ]
  },
  {
   "cell_type": "code",
   "execution_count": 7,
   "id": "ce8d6409-54b5-427c-8426-d0b3b324235d",
   "metadata": {},
   "outputs": [
    {
     "name": "stdin",
     "output_type": "stream",
     "text": [
      "Enter the String: My name is Suraj\n"
     ]
    },
    {
     "name": "stdout",
     "output_type": "stream",
     "text": [
      "MynameisSuraj\n"
     ]
    }
   ],
   "source": [
    "str = input(\"Enter the String:\")\n",
    "white_spaces = str.replace(\" \", \"\")\n",
    "print(white_spaces)"
   ]
  },
  {
   "cell_type": "markdown",
   "id": "e5129e4f-0a6e-4fa8-9561-7ffba728bcf6",
   "metadata": {},
   "source": [
    "8. Find the length of a string without using the `len()` function."
   ]
  },
  {
   "cell_type": "code",
   "execution_count": 8,
   "id": "104f1e24-c7ac-4be8-b62e-21ba5c4083f2",
   "metadata": {},
   "outputs": [
    {
     "name": "stdin",
     "output_type": "stream",
     "text": [
      "Enter the String:  My name is Suraj\n"
     ]
    },
    {
     "name": "stdout",
     "output_type": "stream",
     "text": [
      "The string count : 16\n"
     ]
    }
   ],
   "source": [
    "str = input(\"Enter the String: \")\n",
    "count = 0\n",
    "\n",
    "for char in str:\n",
    "    count = count+1\n",
    "print(\"The string count :\",count)"
   ]
  },
  {
   "cell_type": "markdown",
   "id": "61e85b85-60c4-459c-8129-770ce67751ee",
   "metadata": {},
   "source": [
    "9. Check if a string contains a specific word."
   ]
  },
  {
   "cell_type": "code",
   "execution_count": 9,
   "id": "c29a0a8d-86bf-4170-b6e5-80984f485be7",
   "metadata": {},
   "outputs": [
    {
     "name": "stdout",
     "output_type": "stream",
     "text": [
      "Word is present in the String\n"
     ]
    }
   ],
   "source": [
    "str = \"Hello my name is Suraj\"\n",
    "word_find = \"Suraj\"\n",
    "\n",
    "if word_find in str:\n",
    "    print(\"Word is present in the String\")\n",
    "else:\n",
    "    print(\"Word is not present in the string\")"
   ]
  },
  {
   "cell_type": "markdown",
   "id": "637cd694-6cc1-4919-8ab6-248360347eef",
   "metadata": {},
   "source": [
    "10. Replace a word in a string with another word."
   ]
  },
  {
   "cell_type": "code",
   "execution_count": 10,
   "id": "b34ffd66-552c-4437-91b7-7bc40c1aa152",
   "metadata": {},
   "outputs": [
    {
     "name": "stdout",
     "output_type": "stream",
     "text": [
      "My NAME is Suraj\n"
     ]
    }
   ],
   "source": [
    "str = \"My name is Suraj\"\n",
    "word_find = \"name\"\n",
    "\n",
    "if word_find in str:\n",
    "    new_str = str.replace('name',\"NAME\")\n",
    "    print(new_str)\n",
    "else:\n",
    "    print(\"Word Not Found\")"
   ]
  },
  {
   "cell_type": "markdown",
   "id": "159362d0-ff54-4d4b-8399-9c8178b3c5f6",
   "metadata": {},
   "source": [
    "11. Count the occurrences of a word in a string."
   ]
  },
  {
   "cell_type": "code",
   "execution_count": 11,
   "id": "4f9938b2-3d62-433d-bfe6-3c2190a8ce31",
   "metadata": {},
   "outputs": [
    {
     "name": "stdout",
     "output_type": "stream",
     "text": [
      "The number of Occurence is 2\n"
     ]
    }
   ],
   "source": [
    "str = \"Hello! Hello! Good Morning\"\n",
    "word_count = \"Hello!\"\n",
    "\n",
    "occurence = str.count(word_count)\n",
    "\n",
    "print(\"The number of Occurence is\",occurence)"
   ]
  },
  {
   "cell_type": "markdown",
   "id": "2a20d0ce-e626-4dff-b4bc-cd2bfac51819",
   "metadata": {},
   "source": [
    "12. Find the first occurrence of a word in a string."
   ]
  },
  {
   "cell_type": "code",
   "execution_count": 12,
   "id": "0ed0810f-c56c-49c0-9667-903bbc37e7ea",
   "metadata": {},
   "outputs": [
    {
     "name": "stdout",
     "output_type": "stream",
     "text": [
      "The first occurrence of 'Suraj' starts at index 25.\n"
     ]
    }
   ],
   "source": [
    "str = \"Good Morning! My Name is Suraj\"\n",
    "word_find = \"Suraj\"\n",
    "\n",
    "first_occurrence_index = str.find(word_find)\n",
    "\n",
    "if first_occurrence_index != -1:\n",
    "    print(f\"The first occurrence of '{word_find}' starts at index {first_occurrence_index}.\")\n",
    "else:\n",
    "    print(\"The word was not found in the string.\")\n"
   ]
  },
  {
   "cell_type": "markdown",
   "id": "07749406-4c20-41e7-8104-ad82348dd762",
   "metadata": {},
   "source": [
    "13. Find the last occurrence of a word in a string."
   ]
  },
  {
   "cell_type": "code",
   "execution_count": 13,
   "id": "900fee16-3624-4caf-8c6f-ac5dbb078e83",
   "metadata": {},
   "outputs": [
    {
     "name": "stdout",
     "output_type": "stream",
     "text": [
      "The last occurrence of 'Suraj' starts at index 31.\n"
     ]
    }
   ],
   "source": [
    "str = \"Good Morning Suraj! My Name is Suraj\"\n",
    "word_find = \"Suraj\"\n",
    "\n",
    "last_occurence_index = str.rfind(word_find)\n",
    "\n",
    "if last_occurence_index != -1:\n",
    "    print(f\"The last occurrence of '{word_find}' starts at index {last_occurence_index}.\")\n",
    "else:\n",
    "    print(\"The word was not found in the string.\")\n"
   ]
  },
  {
   "cell_type": "markdown",
   "id": "b30b1fc2-9f0d-414e-8130-574db66a4c3c",
   "metadata": {},
   "source": [
    "14. Split a string into a list of words."
   ]
  },
  {
   "cell_type": "code",
   "execution_count": 14,
   "id": "60ddaa60-e7f9-49f5-8e1a-a6b87c598fc3",
   "metadata": {},
   "outputs": [
    {
     "name": "stdout",
     "output_type": "stream",
     "text": [
      "['My', 'Name', 'is', 'Suraj']\n"
     ]
    }
   ],
   "source": [
    "string = \"My Name is Suraj\"\n",
    "string_split = string.split()\n",
    "print(string_split)"
   ]
  },
  {
   "cell_type": "markdown",
   "id": "157829ae-a8e5-4743-b5b5-1845670bfe85",
   "metadata": {},
   "source": [
    "15. Join a list of words into a string."
   ]
  },
  {
   "cell_type": "code",
   "execution_count": 15,
   "id": "7017d078-7139-4b62-9ddf-b206ed28c8b1",
   "metadata": {},
   "outputs": [
    {
     "name": "stdout",
     "output_type": "stream",
     "text": [
      "My Name is Suraj\n"
     ]
    }
   ],
   "source": [
    "words = [\"My\",\"Name\",\"is\",\"Suraj\"]\n",
    "seprator = \" \"\n",
    "\n",
    "join_word = seprator.join(words)\n",
    "print(join_word)"
   ]
  },
  {
   "cell_type": "markdown",
   "id": "dadba770-e30d-48c8-af96-17644822b15c",
   "metadata": {},
   "source": [
    "16. Convert a string where words are separated by spaces to one where words are separated by underscores."
   ]
  },
  {
   "cell_type": "code",
   "execution_count": 16,
   "id": "6fb2c9a8-5995-4517-91d2-3d6c638f1e36",
   "metadata": {},
   "outputs": [
    {
     "name": "stdout",
     "output_type": "stream",
     "text": [
      "My_Name_is_Suraj\n"
     ]
    }
   ],
   "source": [
    "words = \"My Name is Suraj\"\n",
    "\n",
    "join_word = words.replace(\" \",\"_\")\n",
    "print(join_word)"
   ]
  },
  {
   "cell_type": "markdown",
   "id": "b5e53397-9e18-40bf-b60f-b4087f707130",
   "metadata": {},
   "source": [
    "17. Check if a string starts with a specific word or phrase."
   ]
  },
  {
   "cell_type": "code",
   "execution_count": 17,
   "id": "2a59512e-ba00-4ec3-987c-40c4c14790be",
   "metadata": {},
   "outputs": [
    {
     "name": "stdout",
     "output_type": "stream",
     "text": [
      "The Sentence start with :  The quick\n"
     ]
    }
   ],
   "source": [
    "str = \"The quick brown fox jumps over the lazy dog\"\n",
    "prefix_to_check = \"The quick\"\n",
    "\n",
    "if str.startswith(prefix_to_check):\n",
    "    print(\"The Sentence start with : \",prefix_to_check)\n",
    "else:\n",
    "    print(\"The Sentence does not start with : \",prefix_to_check)"
   ]
  },
  {
   "cell_type": "markdown",
   "id": "d2b85d99-b60b-4628-b706-78b68b5671fb",
   "metadata": {},
   "source": [
    "18. Check if a string ends with a specific word or phrase."
   ]
  },
  {
   "cell_type": "code",
   "execution_count": 18,
   "id": "7db9946d-1d14-4631-917c-a86bf6af3e6c",
   "metadata": {},
   "outputs": [
    {
     "name": "stdout",
     "output_type": "stream",
     "text": [
      "The Sentence ends with :  lazy dog\n"
     ]
    }
   ],
   "source": [
    "str = \"The quick brown fox jumps over the lazy dog\"\n",
    "suffix_to_check = \"lazy dog\"\n",
    "\n",
    "if str.endswith(suffix_to_check):\n",
    "    print(\"The Sentence ends with : \",suffix_to_check)\n",
    "else:\n",
    "    print(\"The Sentence does not ends with : \",suffix_to_check)"
   ]
  },
  {
   "cell_type": "markdown",
   "id": "9a1cbd1b-6e02-42e6-81dc-3e3270725cc3",
   "metadata": {},
   "source": [
    "19. Convert a string to title case (e.g., \"hello world\" to \"Hello World\")."
   ]
  },
  {
   "cell_type": "code",
   "execution_count": 19,
   "id": "e5141bf2-4a30-475b-82f0-f0fe93115b4f",
   "metadata": {},
   "outputs": [
    {
     "name": "stdout",
     "output_type": "stream",
     "text": [
      "Hello World\n"
     ]
    }
   ],
   "source": [
    "str = \"hello world\"\n",
    "new_string = str.title()\n",
    "print(new_string)"
   ]
  },
  {
   "cell_type": "markdown",
   "id": "38f81004-228d-40f2-a0e1-faaa2a3b8488",
   "metadata": {},
   "source": [
    "20. Find the longest word in a string."
   ]
  },
  {
   "cell_type": "code",
   "execution_count": 20,
   "id": "5b05760d-a0a7-4c1a-a1e1-9f155d847f24",
   "metadata": {},
   "outputs": [
    {
     "name": "stdout",
     "output_type": "stream",
     "text": [
      "The longest word is :  Hello!,\n"
     ]
    }
   ],
   "source": [
    "str = \"Hello!, My name is Suraj\"\n",
    "words = str.split()\n",
    "longest_word = \"\"\n",
    "\n",
    "for word in words:\n",
    "    if len(word) > len(longest_word):\n",
    "        longest_word = word\n",
    "        \n",
    "print(\"The longest word is : \",longest_word)"
   ]
  },
  {
   "cell_type": "markdown",
   "id": "fee02e33-c664-487f-8487-43579c99fedc",
   "metadata": {},
   "source": [
    "21. Find the shortest word in a string."
   ]
  },
  {
   "cell_type": "code",
   "execution_count": 21,
   "id": "d61e6d05-8a10-4742-892d-519fd5060b28",
   "metadata": {},
   "outputs": [
    {
     "name": "stdout",
     "output_type": "stream",
     "text": [
      "The shortest word is: is\n"
     ]
    }
   ],
   "source": [
    "str = \"Hello!,My name is Suraj\"\n",
    "words = str.split()\n",
    "shortest_word = None\n",
    "\n",
    "for word in words:\n",
    "    if shortest_word is None or len(word) < len(shortest_word):\n",
    "        shortest_word = word\n",
    "\n",
    "print(\"The shortest word is:\", shortest_word)"
   ]
  },
  {
   "cell_type": "markdown",
   "id": "2f7216ca-4b2f-4b41-b180-60e69f0db581",
   "metadata": {},
   "source": [
    "22. Reverse the order of words in a string."
   ]
  },
  {
   "cell_type": "code",
   "execution_count": 22,
   "id": "4ea08e97-0d87-4e0c-99f7-e278ce3b5569",
   "metadata": {},
   "outputs": [
    {
     "name": "stdout",
     "output_type": "stream",
     "text": [
      "Suraj is Name My\n"
     ]
    }
   ],
   "source": [
    "str = \"My Name is Suraj\"\n",
    "new_str = str.split()\n",
    "\n",
    "reverse_str = \" \".join(reversed(new_str))\n",
    "print(reverse_str)"
   ]
  },
  {
   "cell_type": "markdown",
   "id": "a7ea3f07-169f-4714-8b31-ff20e398ba09",
   "metadata": {},
   "source": [
    "23. Check if a string is alphanumeric"
   ]
  },
  {
   "cell_type": "code",
   "execution_count": 23,
   "id": "465ffa19-29ec-48a3-873c-1de9ecd1f4c1",
   "metadata": {},
   "outputs": [
    {
     "name": "stdout",
     "output_type": "stream",
     "text": [
      "False\n"
     ]
    }
   ],
   "source": [
    "str = \"My name is Suraj\"\n",
    "new_str = str.isalnum()\n",
    "print(new_str)"
   ]
  },
  {
   "cell_type": "markdown",
   "id": "a5619a32-26ea-46f8-80a9-033efc7bf175",
   "metadata": {},
   "source": [
    "24. Extract all digits from a string."
   ]
  },
  {
   "cell_type": "code",
   "execution_count": 24,
   "id": "db10eb2f-44ec-4b54-9601-065a1473cf00",
   "metadata": {},
   "outputs": [
    {
     "name": "stdout",
     "output_type": "stream",
     "text": [
      "['2', '3']\n"
     ]
    }
   ],
   "source": [
    "str = \"There are 2 apple and 3 mangoes\"\n",
    "dig = []\n",
    "\n",
    "for char in str:\n",
    "    if char.isdigit():\n",
    "        dig.append(char)\n",
    "        \n",
    "print(dig)"
   ]
  },
  {
   "cell_type": "markdown",
   "id": "d550b527-fe36-4804-9fcc-15d2a6a9da9e",
   "metadata": {},
   "source": [
    "25. Extract all alphabets from a string."
   ]
  },
  {
   "cell_type": "code",
   "execution_count": 25,
   "id": "5d0506f1-b387-46f3-8e24-c6b029239fc5",
   "metadata": {},
   "outputs": [
    {
     "name": "stdout",
     "output_type": "stream",
     "text": [
      "['T', 'h', 'e', 'r', 'e', 'a', 'r', 'e', 'a', 'p', 'p', 'l', 'e', 's', 'a', 'n', 'd', 'M', 'a', 'n', 'g', 'o', 'e', 's']\n"
     ]
    }
   ],
   "source": [
    "str = \"There are 2 apples and 3 Mangoes\"\n",
    "alphabets = []\n",
    "\n",
    "for char in str:\n",
    "    if char.isalpha():\n",
    "        alphabets.append(char)\n",
    "\n",
    "print(alphabets)"
   ]
  },
  {
   "cell_type": "markdown",
   "id": "01b696b1-903a-4f7c-b531-e7bdeadac877",
   "metadata": {},
   "source": [
    "26. Count the number of uppercase letters in a string."
   ]
  },
  {
   "cell_type": "code",
   "execution_count": 26,
   "id": "d935c758-249e-4db5-b98a-0ae135162dcf",
   "metadata": {},
   "outputs": [
    {
     "name": "stdout",
     "output_type": "stream",
     "text": [
      "The total number of Uppercase Character :  2\n"
     ]
    }
   ],
   "source": [
    "str = \"Suraj Patil\"\n",
    "char_upper = 0\n",
    "\n",
    "for char in str:\n",
    "    if char.isupper():\n",
    "        char_upper = char_upper+1\n",
    "\n",
    "        \n",
    "print(\"The total number of Uppercase Character : \", char_upper)"
   ]
  },
  {
   "cell_type": "markdown",
   "id": "9459b6e5-1987-4780-8a1f-793f9fef8530",
   "metadata": {},
   "source": [
    "27. Count the number of lowercase letters in a string."
   ]
  },
  {
   "cell_type": "code",
   "execution_count": 27,
   "id": "db57f797-4d34-4c4f-aa5e-52ccf2cd4cdf",
   "metadata": {},
   "outputs": [
    {
     "name": "stdout",
     "output_type": "stream",
     "text": [
      "The total number of Lowercase Charcter :  8\n"
     ]
    }
   ],
   "source": [
    "str = \"Suraj Patil\"\n",
    "char_lower = 0\n",
    "\n",
    "for char in str:\n",
    "    if char.islower():\n",
    "        char_lower = char_lower+1\n",
    "    \n",
    "print(\"The total number of Lowercase Charcter : \",char_lower)"
   ]
  },
  {
   "cell_type": "markdown",
   "id": "08eb5af4-02f1-4fd7-b38f-deba3a8af0b3",
   "metadata": {},
   "source": [
    "28. Swap the case of each character in a string."
   ]
  },
  {
   "cell_type": "code",
   "execution_count": 28,
   "id": "2bba8d33-fba5-4ee8-bb55-b7928dce0806",
   "metadata": {},
   "outputs": [
    {
     "name": "stdout",
     "output_type": "stream",
     "text": [
      "sURAJ pATIL\n"
     ]
    }
   ],
   "source": [
    "str = \"Suraj Patil\"\n",
    "new_str = str.swapcase()\n",
    "print(new_str)"
   ]
  },
  {
   "cell_type": "markdown",
   "id": "33244a3b-28e7-4735-b333-c91bb5cc75b7",
   "metadata": {},
   "source": [
    "29. Remove a specific word from a string."
   ]
  },
  {
   "cell_type": "code",
   "execution_count": 29,
   "id": "e5831714-1274-4b86-b7cb-0320a7681211",
   "metadata": {},
   "outputs": [
    {
     "name": "stdout",
     "output_type": "stream",
     "text": [
      "My name Suraj\n"
     ]
    }
   ],
   "source": [
    "str = \"My name is Suraj\"\n",
    "rem_word = \"is\"\n",
    "\n",
    "new_word = str.split()\n",
    "\n",
    "if rem_word in new_word:\n",
    "    new_word.remove(rem_word)\n",
    "    \n",
    "join_string = ' '.join(new_word)\n",
    "print(join_string)"
   ]
  },
  {
   "cell_type": "markdown",
   "id": "275cc391-9760-4aef-9998-291f6107c925",
   "metadata": {},
   "source": [
    "30. Check if a string is a valid email address."
   ]
  },
  {
   "cell_type": "code",
   "execution_count": 30,
   "id": "6bf815e7-472c-4305-80bb-6928f0ed3c51",
   "metadata": {},
   "outputs": [
    {
     "name": "stdout",
     "output_type": "stream",
     "text": [
      "Email Is Valid\n"
     ]
    }
   ],
   "source": [
    "str = \"abc@gmail.com\"\n",
    "\n",
    "if \"@gmail.com\" in str:\n",
    "    print(\"Email Is Valid\")\n",
    "else:\n",
    "    print(\"Email is Not Valid\")"
   ]
  },
  {
   "cell_type": "markdown",
   "id": "dfe80ae3-fbcd-48a9-b4aa-82d39d5460e5",
   "metadata": {},
   "source": [
    "31. Extract the username from an email address string."
   ]
  },
  {
   "cell_type": "code",
   "execution_count": 31,
   "id": "79a4d8f1-86fc-4ecc-802d-0d4128c367a7",
   "metadata": {},
   "outputs": [
    {
     "name": "stdout",
     "output_type": "stream",
     "text": [
      "abc\n"
     ]
    }
   ],
   "source": [
    "str = \"abc@gmail.com\"\n",
    "\n",
    "username = str.split(\"@\")[0]\n",
    "print(username)"
   ]
  },
  {
   "cell_type": "markdown",
   "id": "a9519283-2415-40ec-9c01-4ad9da34d6f1",
   "metadata": {},
   "source": [
    "32. Extract the domain name from an email address string."
   ]
  },
  {
   "cell_type": "code",
   "execution_count": 32,
   "id": "3ed1a93b-15bb-4b1f-ab39-3f8a0c7c6bb2",
   "metadata": {},
   "outputs": [
    {
     "name": "stdout",
     "output_type": "stream",
     "text": [
      "example.com\n"
     ]
    }
   ],
   "source": [
    "str = \"abc@example.com\"\n",
    "\n",
    "username = str.split(\"@\")[1]\n",
    "print(username)"
   ]
  },
  {
   "cell_type": "markdown",
   "id": "d7d11c56-4841-4d36-bc67-583ab638c18b",
   "metadata": {},
   "source": [
    "33. Replace multiple spaces in a string with a single space."
   ]
  },
  {
   "cell_type": "code",
   "execution_count": 33,
   "id": "9b4cf9e7-cc85-4985-ae3d-4f552e0688bf",
   "metadata": {},
   "outputs": [
    {
     "name": "stdout",
     "output_type": "stream",
     "text": [
      "My Name is Suraj\n"
     ]
    }
   ],
   "source": [
    "str = \"My  Name  is  Suraj\"\n",
    "new_str = str.replace(\"  \", \" \")\n",
    "print(new_str)"
   ]
  },
  {
   "cell_type": "markdown",
   "id": "07d76fe2-9df1-44ac-ab0e-7bbdb19f5bd7",
   "metadata": {},
   "source": [
    "34. Check if a string is a valid URL"
   ]
  },
  {
   "cell_type": "code",
   "execution_count": 34,
   "id": "6439111b-95ed-4536-9284-c9267a2d2b96",
   "metadata": {},
   "outputs": [
    {
     "name": "stdin",
     "output_type": "stream",
     "text": [
      "Enter a URL:  https://suraj.com\n"
     ]
    },
    {
     "name": "stdout",
     "output_type": "stream",
     "text": [
      "https://suraj.com is a valid URL.\n"
     ]
    }
   ],
   "source": [
    "from urllib.parse import urlparse\n",
    "\n",
    "url_string = input(\"Enter a URL: \")\n",
    "\n",
    "try:\n",
    "    result = urlparse(url_string)\n",
    "    if result.scheme and result.netloc:\n",
    "        print(f\"{url_string} is a valid URL.\")\n",
    "    else:\n",
    "        print(f\"{url_string} is not a valid URL.\")\n",
    "except ValueError:\n",
    "    print(f\"{url_string} is not a valid URL.\")"
   ]
  },
  {
   "cell_type": "markdown",
   "id": "5f2d5353-af1e-4db7-9cab-9d9b2c71c6ce",
   "metadata": {},
   "source": [
    "35. Extract the protocol (http or https) from a URL string."
   ]
  },
  {
   "cell_type": "code",
   "execution_count": 35,
   "id": "ed019a71-8ba1-4068-b82c-215cd6e0fe00",
   "metadata": {},
   "outputs": [
    {
     "name": "stdout",
     "output_type": "stream",
     "text": [
      "Protocol: https\n"
     ]
    }
   ],
   "source": [
    "url_string = \"https://www.example.com\"\n",
    "\n",
    "protocol_end_index = url_string.find(\"://\")\n",
    "\n",
    "if protocol_end_index != -1:\n",
    "    protocol = url_string[:protocol_end_index]\n",
    "    print(\"Protocol:\", protocol)\n",
    "else:\n",
    "    print(\"Protocol not found in the URL.\")"
   ]
  },
  {
   "cell_type": "markdown",
   "id": "4467c6e9-23c5-424e-9655-90bdc3c971a9",
   "metadata": {},
   "source": [
    "36. Find the frequency of each character in a string."
   ]
  },
  {
   "cell_type": "code",
   "execution_count": 36,
   "id": "c894b1dc-5545-4a72-9cbb-c166cbc263eb",
   "metadata": {},
   "outputs": [
    {
     "name": "stdout",
     "output_type": "stream",
     "text": [
      "Character frequency:\n",
      "'h': 1\n",
      "'e': 1\n",
      "'l': 3\n",
      "'o': 2\n",
      "' ': 1\n",
      "'w': 1\n",
      "'r': 1\n",
      "'d': 1\n"
     ]
    }
   ],
   "source": [
    "input_string = \"hello world\"\n",
    "\n",
    "character_frequency = {}\n",
    "\n",
    "for char in input_string:\n",
    "    if char in character_frequency:\n",
    "        character_frequency[char] += 1\n",
    "    else:\n",
    "        character_frequency[char] = 1\n",
    "\n",
    "print(\"Character frequency:\")\n",
    "for char, frequency in character_frequency.items():\n",
    "    print(f\"'{char}': {frequency}\")"
   ]
  },
  {
   "cell_type": "markdown",
   "id": "be046ad3-dad5-4e5e-90f3-5f1b9e559039",
   "metadata": {},
   "source": [
    "37. Remove all punctuation from a string."
   ]
  },
  {
   "cell_type": "code",
   "execution_count": 37,
   "id": "2e5f421f-3c21-4692-9eda-4e88888fe9e5",
   "metadata": {},
   "outputs": [
    {
     "name": "stdout",
     "output_type": "stream",
     "text": [
      "Hello World\n"
     ]
    }
   ],
   "source": [
    "str = \"Hello! World\"\n",
    "new_str = \"\"\n",
    "\n",
    "for char in str:\n",
    "    if char.isalnum() or char.isspace():\n",
    "        new_str = new_str+char\n",
    "\n",
    "print(new_str)"
   ]
  },
  {
   "cell_type": "markdown",
   "id": "eec16fc1-5746-4220-8a5f-06b90d8f9222",
   "metadata": {},
   "source": [
    "38. Check if a string contains only digits."
   ]
  },
  {
   "cell_type": "code",
   "execution_count": 38,
   "id": "ca5019a7-eb65-49f2-9d4d-044ce17cf71d",
   "metadata": {},
   "outputs": [
    {
     "name": "stdout",
     "output_type": "stream",
     "text": [
      "True\n"
     ]
    }
   ],
   "source": [
    "str = \"12345\"\n",
    "\n",
    "new_str = str.isdigit()\n",
    "print(new_str)"
   ]
  },
  {
   "cell_type": "markdown",
   "id": "5bd160ab-c1f2-4961-bca6-ed47b92d881c",
   "metadata": {},
   "source": [
    "39. Check if a string contains only alphabets."
   ]
  },
  {
   "cell_type": "code",
   "execution_count": 39,
   "id": "d5cd2ced-3433-424d-b478-2568ad379029",
   "metadata": {},
   "outputs": [
    {
     "name": "stdout",
     "output_type": "stream",
     "text": [
      "False\n"
     ]
    }
   ],
   "source": [
    "str = \"Suraj 123Patil\"\n",
    "\n",
    "new_str = str.isalpha()\n",
    "print(new_str)"
   ]
  },
  {
   "cell_type": "markdown",
   "id": "e0ad6f38-5092-4833-bf0b-1073f036c255",
   "metadata": {},
   "source": [
    "40. Convert a string to a list of characters."
   ]
  },
  {
   "cell_type": "code",
   "execution_count": 40,
   "id": "ecb12381-f266-40e4-ae20-3701267ca093",
   "metadata": {},
   "outputs": [
    {
     "name": "stdout",
     "output_type": "stream",
     "text": [
      "['S', 'u', 'r', 'a', 'j']\n"
     ]
    }
   ],
   "source": [
    "str = \"Suraj\"\n",
    "\n",
    "new_str = []\n",
    "\n",
    "for char in str:\n",
    "    new_str.append(char)\n",
    "\n",
    "print(new_str)"
   ]
  },
  {
   "cell_type": "markdown",
   "id": "2bc8e166-b327-46c8-ae6f-f4913978f720",
   "metadata": {},
   "source": [
    "41. Check if two strings are anagrams."
   ]
  },
  {
   "cell_type": "code",
   "execution_count": 41,
   "id": "5700c22b-cf2f-41c8-8016-9b06c5b63c8c",
   "metadata": {},
   "outputs": [
    {
     "name": "stdout",
     "output_type": "stream",
     "text": [
      "The Strings are anagrams\n"
     ]
    }
   ],
   "source": [
    "str1 = \"silent\"\n",
    "str2 = \"listen\"\n",
    "\n",
    "sorted_str1 = sorted(str1)\n",
    "sorted_str2 = sorted(str2)\n",
    "\n",
    "if sorted_str1 == sorted_str2:\n",
    "    print(\"The Strings are anagrams\")\n",
    "else:\n",
    "    print(\"The Strings are not anagrams\")"
   ]
  },
  {
   "cell_type": "markdown",
   "id": "598a1aa4-cc98-4525-b01c-97bda9ab9b7f",
   "metadata": {},
   "source": [
    "42. Encode a string using a Caesar cipher."
   ]
  },
  {
   "cell_type": "code",
   "execution_count": 42,
   "id": "ff9b3805-576a-49f3-839b-e171d9b25d56",
   "metadata": {},
   "outputs": [
    {
     "name": "stdout",
     "output_type": "stream",
     "text": [
      "Encrypted text: khoor zruog\n"
     ]
    }
   ],
   "source": [
    "plaintext = \"hello world\"\n",
    "shift = 3\n",
    "encrypted_text = \"\"\n",
    "\n",
    "for char in plaintext:\n",
    "    if char.isalpha():\n",
    "        ascii_offset = ord('a') if char.islower() else ord('A')\n",
    "        shifted_char = chr((ord(char) - ascii_offset + shift) % 26 + ascii_offset)\n",
    "        encrypted_text += shifted_char\n",
    "    else:\n",
    "        encrypted_text += char\n",
    "\n",
    "print(\"Encrypted text:\", encrypted_text)\n",
    "    "
   ]
  },
  {
   "cell_type": "markdown",
   "id": "edf88315-6b92-4b5f-b7ba-f8374965b0e9",
   "metadata": {},
   "source": [
    "43. Decode a Caesar cipher encoded string."
   ]
  },
  {
   "cell_type": "code",
   "execution_count": 43,
   "id": "2360b543-34db-4a1b-a30c-cd863d230ef8",
   "metadata": {},
   "outputs": [
    {
     "name": "stdout",
     "output_type": "stream",
     "text": [
      "Decrypted text: hello world\n"
     ]
    }
   ],
   "source": [
    "encrypted_text = \"khoor zruog\"\n",
    "shift = 3\n",
    "decrypted_text = \"\"\n",
    "\n",
    "for char in encrypted_text:\n",
    "    if char.isalpha():\n",
    "        ascii_offset = ord('a') if char.islower() else ord('A')\n",
    "        decrypted_char = chr((ord(char) - ascii_offset - shift) % 26 + ascii_offset)\n",
    "        decrypted_text += decrypted_char\n",
    "    else:\n",
    "        decrypted_text += char\n",
    "\n",
    "print(\"Decrypted text:\", decrypted_text)"
   ]
  },
  {
   "cell_type": "markdown",
   "id": "8a29a136-9d17-4e07-96e7-4a6718146fa2",
   "metadata": {},
   "source": [
    "44. Find the most frequent word in a string."
   ]
  },
  {
   "cell_type": "code",
   "execution_count": 44,
   "id": "5d2d935f-6842-4f01-81d0-e5751f9490ef",
   "metadata": {},
   "outputs": [
    {
     "name": "stdout",
     "output_type": "stream",
     "text": [
      "The most frequency is: 3\n"
     ]
    }
   ],
   "source": [
    "str = \"My Name Name is is is Suraj\"\n",
    "\n",
    "freq_word = {}\n",
    "words = str.split()\n",
    "\n",
    "for word in words:\n",
    "    if word in freq_word:\n",
    "        freq_word[word] +=1\n",
    "    else:\n",
    "        freq_word[word] = 1\n",
    "    \n",
    "most_frequent_word = max(freq_word, key=freq_word.get)\n",
    "frequency = freq_word[most_frequent_word]\n",
    "\n",
    "print(\"The most frequency is:\",frequency)"
   ]
  },
  {
   "cell_type": "markdown",
   "id": "f6fdb14d-920a-4769-92f8-cea50b35f573",
   "metadata": {},
   "source": [
    "45. Find all unique words in a string."
   ]
  },
  {
   "cell_type": "code",
   "execution_count": 45,
   "id": "9930f2a7-42a1-4f6f-8a29-d4d97cd84632",
   "metadata": {},
   "outputs": [
    {
     "name": "stdout",
     "output_type": "stream",
     "text": [
      "Unique words: {'dog', 'the', 'lazy', 'quick', 'jumps', 'over', 'brown', 'fox'}\n"
     ]
    }
   ],
   "source": [
    "input_string = \"the quick brown fox jumps over the lazy dog the quick brown fox\"\n",
    "\n",
    "words = input_string.split()\n",
    "unique_words = set(words)\n",
    "\n",
    "print(\"Unique words:\", unique_words)"
   ]
  },
  {
   "cell_type": "markdown",
   "id": "daa485bb-a7a4-482e-8028-18a09a9b5aa3",
   "metadata": {},
   "source": [
    "46. Count the number of syllables in a string."
   ]
  },
  {
   "cell_type": "code",
   "execution_count": 46,
   "id": "585e4640-6b30-4eb3-bfe2-c732dde070cb",
   "metadata": {},
   "outputs": [
    {
     "name": "stdout",
     "output_type": "stream",
     "text": [
      "Total syllables: 3\n"
     ]
    }
   ],
   "source": [
    "input_string = \"hello world\"\n",
    "words = input_string.split()\n",
    "\n",
    "total_syllables = 0\n",
    "vowels = \"aeiouy\"\n",
    "\n",
    "for word in words:\n",
    "    word = word.lower()\n",
    "    count = 0\n",
    "    in_vowel_group = False\n",
    "\n",
    "    for char in word:\n",
    "        if char in vowels:\n",
    "            if not in_vowel_group:\n",
    "                count += 1\n",
    "                in_vowel_group = True\n",
    "        else:\n",
    "            in_vowel_group = False\n",
    "\n",
    "    if word.endswith(\"e\"):\n",
    "        count -= 1\n",
    "    if count == 0:\n",
    "        count = 1\n",
    "\n",
    "    total_syllables += count\n",
    "\n",
    "print(\"Total syllables:\", total_syllables)"
   ]
  },
  {
   "cell_type": "markdown",
   "id": "bd7354f8-91e0-4214-84e7-22b8957b8649",
   "metadata": {},
   "source": [
    "47. Check if a string contains any special characters."
   ]
  },
  {
   "cell_type": "code",
   "execution_count": 47,
   "id": "52b76e00-8573-48dd-bda5-0c44acdb6d19",
   "metadata": {},
   "outputs": [
    {
     "name": "stdout",
     "output_type": "stream",
     "text": [
      "The string contains special characters.\n"
     ]
    }
   ],
   "source": [
    "str = \"Hello World!\"\n",
    "\n",
    "contains_special_char = False\n",
    "\n",
    "for char in str:\n",
    "    if not char.isalnum() or char.isspace():\n",
    "        contains_special_char = True\n",
    "        break\n",
    "        \n",
    "if contains_special_char:\n",
    "    print(\"The string contains special characters.\")\n",
    "else:\n",
    "    print(\"The string does not contain special characters.\")       "
   ]
  },
  {
   "cell_type": "markdown",
   "id": "ac3869a0-5e29-45ac-9a17-a2b8bed3b8af",
   "metadata": {},
   "source": [
    "48. Remove the nth word from a string."
   ]
  },
  {
   "cell_type": "code",
   "execution_count": 48,
   "id": "be7a60d0-88be-46f8-bac8-f348e5ef99a3",
   "metadata": {},
   "outputs": [
    {
     "name": "stdout",
     "output_type": "stream",
     "text": [
      "New string: My Name is\n"
     ]
    }
   ],
   "source": [
    "str = \"My Name is Suraj\"\n",
    "words = str.split()\n",
    "\n",
    "n = 3\n",
    "\n",
    "if 0 <= n <len(words):\n",
    "    words.pop(n)\n",
    "    new_string = ' '.join(words)\n",
    "    print(\"New string:\", new_string)\n",
    "else:\n",
    "    print(\"Invalid index. The word cannot be removed.\")"
   ]
  },
  {
   "cell_type": "markdown",
   "id": "b82234dd-520e-4491-9587-f9d87b159d8b",
   "metadata": {},
   "source": [
    "49. Insert a word at the nth position in a string."
   ]
  },
  {
   "cell_type": "code",
   "execution_count": 49,
   "id": "724924eb-332c-473a-b5ec-be2af80c5f19",
   "metadata": {},
   "outputs": [
    {
     "name": "stdout",
     "output_type": "stream",
     "text": [
      "New string: My Name is Suraj\n"
     ]
    }
   ],
   "source": [
    "input_string = \"My Name is\"\n",
    "new_word = \"Suraj\"\n",
    "n = 3 \n",
    "\n",
    "words = input_string.split()\n",
    "\n",
    "if 0 <= n <= len(words):\n",
    "    words.insert(n, new_word)\n",
    "    new_string = ' '.join(words)\n",
    "    print(\"New string:\", new_string)\n",
    "else:\n",
    "    print(\"Invalid index. The word cannot be inserted.\")\n"
   ]
  },
  {
   "cell_type": "markdown",
   "id": "84e3f489-8807-4db1-9246-9e6fac949523",
   "metadata": {},
   "source": [
    "50. Convert a CSV string to a list of lists."
   ]
  },
  {
   "cell_type": "code",
   "execution_count": 50,
   "id": "050f17b5-58c1-43b0-8fc6-b9f630eba4a5",
   "metadata": {},
   "outputs": [
    {
     "name": "stdout",
     "output_type": "stream",
     "text": [
      "['1', 'John', 'Doe']\n",
      "['2', 'Jane', 'Smith']\n",
      "['3', 'Michael', 'Johnson']\n"
     ]
    }
   ],
   "source": [
    "import csv\n",
    "from io import StringIO\n",
    "\n",
    "csv_string = \"1,John,Doe\\n2,Jane,Smith\\n3,Michael,Johnson\"\n",
    "csv_file = StringIO(csv_string)\n",
    "\n",
    "csv_list_of_lists = list(csv.reader(csv_file))\n",
    "\n",
    "for row in csv_list_of_lists:\n",
    "    print(row)"
   ]
  },
  {
   "cell_type": "markdown",
   "id": "ebcfd6f9-60bc-4b00-b982-402be4527d6c",
   "metadata": {},
   "source": [
    "TOPIC: List Based Assignment Problem"
   ]
  },
  {
   "cell_type": "markdown",
   "id": "b68b53b1-eb7d-4947-a44c-6b6b74fbfa7f",
   "metadata": {},
   "source": [
    "1. Create a list with integers from 1 to 10."
   ]
  },
  {
   "cell_type": "code",
   "execution_count": 51,
   "id": "a69e87b6-559b-4419-b5df-a96d4208710c",
   "metadata": {},
   "outputs": [
    {
     "name": "stdout",
     "output_type": "stream",
     "text": [
      "[1, 2, 2, 5, 8, 2, 9, 3, 3, 4, 5, 6, 7, 8, 9, 10]\n"
     ]
    },
    {
     "data": {
      "text/plain": [
       "list"
      ]
     },
     "execution_count": 51,
     "metadata": {},
     "output_type": "execute_result"
    }
   ],
   "source": [
    "l1 = [1,2,2,5,8,2,9,3,3,4,5,6,7,8,9,10]\n",
    "print(l1)\n",
    "type(l1)"
   ]
  },
  {
   "cell_type": "markdown",
   "id": "71ec792a-55a8-4fd3-9c3c-53b9d46d2102",
   "metadata": {},
   "source": [
    "2. Find the length of a list without using the `len()` function."
   ]
  },
  {
   "cell_type": "code",
   "execution_count": 52,
   "id": "53096a52-03b8-4a31-9906-c509422ad006",
   "metadata": {},
   "outputs": [
    {
     "name": "stdout",
     "output_type": "stream",
     "text": [
      "16\n"
     ]
    }
   ],
   "source": [
    "l1 = [1,2,2,5,8,2,9,3,3,4,5,6,7,8,9,10]\n",
    "\n",
    "count = 0\n",
    "for i in l1:\n",
    "    count += 1\n",
    "\n",
    "print(count)"
   ]
  },
  {
   "cell_type": "markdown",
   "id": "27f63d47-87fd-45a5-b1a7-b82aa0f958e1",
   "metadata": {},
   "source": [
    "3. Append an element to the end of a list."
   ]
  },
  {
   "cell_type": "code",
   "execution_count": 53,
   "id": "fb6c88e2-b5ce-48a8-9238-9427592d7588",
   "metadata": {},
   "outputs": [
    {
     "data": {
      "text/plain": [
       "[1, 2, 2, 5, 8, 2, 9, 3, 3, 4, 5, 6, 7, 8, 9, 10, 11]"
      ]
     },
     "execution_count": 53,
     "metadata": {},
     "output_type": "execute_result"
    }
   ],
   "source": [
    "l1.append(11)\n",
    "l1"
   ]
  },
  {
   "cell_type": "markdown",
   "id": "4bf758e0-d6d0-44eb-b49c-3db3089e2fd5",
   "metadata": {},
   "source": [
    "4. Insert an element at a specific index in a list."
   ]
  },
  {
   "cell_type": "code",
   "execution_count": 54,
   "id": "518627a8-2fa2-4a1a-ab85-82985a64aafa",
   "metadata": {},
   "outputs": [
    {
     "data": {
      "text/plain": [
       "[1, 2, 2, 100, 5, 8, 2, 9, 3, 3, 4, 5, 6, 7, 8, 9, 10, 11]"
      ]
     },
     "execution_count": 54,
     "metadata": {},
     "output_type": "execute_result"
    }
   ],
   "source": [
    "l1.insert(3,100)\n",
    "l1"
   ]
  },
  {
   "cell_type": "markdown",
   "id": "731a8348-f9ce-4d07-8caa-0f59e9c3d822",
   "metadata": {},
   "source": [
    "5. Remove an element from a list by its value."
   ]
  },
  {
   "cell_type": "code",
   "execution_count": 55,
   "id": "da849164-2bc3-49d9-917c-2a9bd2e2239e",
   "metadata": {},
   "outputs": [
    {
     "data": {
      "text/plain": [
       "[1, 2, 2, 5, 8, 2, 9, 3, 3, 4, 5, 6, 7, 8, 9, 10, 11]"
      ]
     },
     "execution_count": 55,
     "metadata": {},
     "output_type": "execute_result"
    }
   ],
   "source": [
    "l1.remove(100)\n",
    "l1"
   ]
  },
  {
   "cell_type": "markdown",
   "id": "f625e44a-15ea-4ed2-8cd4-a89993727765",
   "metadata": {},
   "source": [
    "6. Remove an element from a list by its index."
   ]
  },
  {
   "cell_type": "code",
   "execution_count": 56,
   "id": "fe85ca25-6344-4ab2-877b-0ce5d673e924",
   "metadata": {},
   "outputs": [
    {
     "data": {
      "text/plain": [
       "[1, 2, 2, 5, 8, 2, 9, 3, 3, 4, 6, 7, 8, 9, 10, 11]"
      ]
     },
     "execution_count": 56,
     "metadata": {},
     "output_type": "execute_result"
    }
   ],
   "source": [
    "l1.pop(10)\n",
    "l1"
   ]
  },
  {
   "cell_type": "markdown",
   "id": "2c387f20-0896-4576-a576-051850e88f2e",
   "metadata": {},
   "source": [
    "7. Check if an element exists in a list."
   ]
  },
  {
   "cell_type": "code",
   "execution_count": 57,
   "id": "bedcc9a3-4091-4ff2-84f6-f61f94fdebd0",
   "metadata": {},
   "outputs": [
    {
     "data": {
      "text/plain": [
       "3"
      ]
     },
     "execution_count": 57,
     "metadata": {},
     "output_type": "execute_result"
    }
   ],
   "source": [
    "l1.index(5)"
   ]
  },
  {
   "cell_type": "markdown",
   "id": "c9b4428b-3495-419f-8cc6-71489e841f4c",
   "metadata": {},
   "source": [
    "8. Find the index of the first occurrence of an element in a list."
   ]
  },
  {
   "cell_type": "code",
   "execution_count": 58,
   "id": "4ad9fff8-af44-4450-be50-5f13c47864f6",
   "metadata": {},
   "outputs": [
    {
     "data": {
      "text/plain": [
       "3"
      ]
     },
     "execution_count": 58,
     "metadata": {},
     "output_type": "execute_result"
    }
   ],
   "source": [
    "l1.index(5)"
   ]
  },
  {
   "cell_type": "markdown",
   "id": "6a98c576-9502-4286-9cf6-80df87db9bc3",
   "metadata": {},
   "source": [
    "9. Count the occurrences of an element in a list."
   ]
  },
  {
   "cell_type": "code",
   "execution_count": 59,
   "id": "dac476b9-e788-4f8a-a51b-8a27c0021738",
   "metadata": {},
   "outputs": [
    {
     "data": {
      "text/plain": [
       "3"
      ]
     },
     "execution_count": 59,
     "metadata": {},
     "output_type": "execute_result"
    }
   ],
   "source": [
    "l1.count(2)"
   ]
  },
  {
   "cell_type": "markdown",
   "id": "0ef81639-9ad1-4e29-924f-2f22ade0a359",
   "metadata": {},
   "source": [
    "10. Reverse the order of elements in a list."
   ]
  },
  {
   "cell_type": "code",
   "execution_count": 60,
   "id": "b858e8b9-1439-4632-99d4-919e834b7277",
   "metadata": {},
   "outputs": [
    {
     "data": {
      "text/plain": [
       "[11, 10, 9, 8, 7, 6, 4, 3, 3, 9, 2, 8, 5, 2, 2, 1]"
      ]
     },
     "execution_count": 60,
     "metadata": {},
     "output_type": "execute_result"
    }
   ],
   "source": [
    "l1[::-1]"
   ]
  },
  {
   "cell_type": "markdown",
   "id": "02ef143f-0353-4fab-b8ba-6f6aa853fdbb",
   "metadata": {},
   "source": [
    "11. Sort a list in ascending order."
   ]
  },
  {
   "cell_type": "code",
   "execution_count": 61,
   "id": "33e68aae-cd5d-4cea-b1ee-7ad44175e8f5",
   "metadata": {},
   "outputs": [
    {
     "data": {
      "text/plain": [
       "[1, 2, 2, 2, 3, 3, 4, 5, 6, 7, 8, 8, 9, 9, 10, 11]"
      ]
     },
     "execution_count": 61,
     "metadata": {},
     "output_type": "execute_result"
    }
   ],
   "source": [
    "l1.sort(reverse=False)\n",
    "l1"
   ]
  },
  {
   "cell_type": "markdown",
   "id": "b72c5c86-9e2c-4176-9acc-d29135ba1992",
   "metadata": {},
   "source": [
    "12. Sort a list in descending order."
   ]
  },
  {
   "cell_type": "code",
   "execution_count": 62,
   "id": "05aa8ada-b7e6-42a3-9b42-9a8a19c9c950",
   "metadata": {},
   "outputs": [
    {
     "data": {
      "text/plain": [
       "[11, 10, 9, 9, 8, 8, 7, 6, 5, 4, 3, 3, 2, 2, 2, 1]"
      ]
     },
     "execution_count": 62,
     "metadata": {},
     "output_type": "execute_result"
    }
   ],
   "source": [
    "l1.sort(reverse=True)\n",
    "l1"
   ]
  },
  {
   "cell_type": "markdown",
   "id": "bac4d2d5-2cbe-4e3e-841e-417801d128bb",
   "metadata": {},
   "source": [
    "13. Create a list of even numbers from 1 to 20."
   ]
  },
  {
   "cell_type": "code",
   "execution_count": 63,
   "id": "80147ace-5233-4a93-b83a-9b22e3bc3f14",
   "metadata": {},
   "outputs": [
    {
     "name": "stdout",
     "output_type": "stream",
     "text": [
      "[2, 4, 6, 8, 10, 12, 14, 16, 18, 20]\n"
     ]
    }
   ],
   "source": [
    "l2 = [2,4,6,8,10,12,14,16,18,20]\n",
    "print(l2)"
   ]
  },
  {
   "cell_type": "markdown",
   "id": "8d793eea-fde6-4b8f-a416-98276f636a4f",
   "metadata": {},
   "source": [
    "14. Create a list of odd numbers from 1 to 20."
   ]
  },
  {
   "cell_type": "code",
   "execution_count": 64,
   "id": "2646d663-7517-44b6-a03b-7edf515f6508",
   "metadata": {},
   "outputs": [
    {
     "name": "stdout",
     "output_type": "stream",
     "text": [
      "[1, 3, 5, 7, 9, 11, 13, 15, 17, 19]\n"
     ]
    }
   ],
   "source": [
    "l3 = [1,3,5,7,9,11,13,15,17,19]\n",
    "print(l3)"
   ]
  },
  {
   "cell_type": "markdown",
   "id": "850fe15e-daab-4f44-95a3-eaad3974d3ff",
   "metadata": {},
   "source": [
    "15. Find the sum of all elements in a list."
   ]
  },
  {
   "cell_type": "code",
   "execution_count": 65,
   "id": "363d5051-d523-47e1-a480-badcd1e96590",
   "metadata": {},
   "outputs": [
    {
     "data": {
      "text/plain": [
       "90"
      ]
     },
     "execution_count": 65,
     "metadata": {},
     "output_type": "execute_result"
    }
   ],
   "source": [
    "sum(l1)"
   ]
  },
  {
   "cell_type": "markdown",
   "id": "a1a3ad41-1cb1-4d38-b96e-455da0a80442",
   "metadata": {},
   "source": [
    "16. Find the maximum value in a list."
   ]
  },
  {
   "cell_type": "code",
   "execution_count": 66,
   "id": "29bad4cb-8238-4fb9-ae27-b24ac97b0a25",
   "metadata": {},
   "outputs": [
    {
     "name": "stdout",
     "output_type": "stream",
     "text": [
      "Max Value: 54\n"
     ]
    }
   ],
   "source": [
    "l4 = [10,54,40,16,17,8]\n",
    "max_value = max(l4)\n",
    "print(\"Max Value:\",max_value)"
   ]
  },
  {
   "cell_type": "markdown",
   "id": "ca5c1e1f-1cea-4e03-8680-98bf7d9be00e",
   "metadata": {},
   "source": [
    "17. Find the minimum value in a list."
   ]
  },
  {
   "cell_type": "code",
   "execution_count": 67,
   "id": "a41a5296-6218-406b-839a-a7ac7db1a7bc",
   "metadata": {},
   "outputs": [
    {
     "name": "stdout",
     "output_type": "stream",
     "text": [
      "Min Value: 8\n"
     ]
    }
   ],
   "source": [
    "min_value = min(l4)\n",
    "print(\"Min Value:\",min_value)"
   ]
  },
  {
   "cell_type": "markdown",
   "id": "b32c01d5-bfc4-4b49-bad3-e2b6d57eceec",
   "metadata": {},
   "source": [
    "18. Create a list of squares of numbers from 1 to 10."
   ]
  },
  {
   "cell_type": "code",
   "execution_count": 68,
   "id": "98b2401c-60b6-4f49-a4be-e120f3d9a11b",
   "metadata": {},
   "outputs": [
    {
     "name": "stdout",
     "output_type": "stream",
     "text": [
      "[1, 4, 9, 16, 25, 36, 49, 64, 81, 100]\n"
     ]
    }
   ],
   "source": [
    "square_root = [x**2 for x in range(1, 11)]\n",
    "print(square_root)"
   ]
  },
  {
   "cell_type": "markdown",
   "id": "681e3858-0bb9-45b3-b56c-40c0ea454a8f",
   "metadata": {},
   "source": [
    "19. Create a list of random numbers."
   ]
  },
  {
   "cell_type": "code",
   "execution_count": 69,
   "id": "cac2968a-9373-4e38-9de8-c105874e35cf",
   "metadata": {},
   "outputs": [
    {
     "name": "stdout",
     "output_type": "stream",
     "text": [
      "[1, 1, 2, 3, 3, 4, 5, 5, 5, 6, 7, 8, 8, 8, 9]\n"
     ]
    }
   ],
   "source": [
    "l6 = [1,1,2,3,3,4,5,5,5,6,7,8,8,8,9]\n",
    "print(l6)"
   ]
  },
  {
   "cell_type": "markdown",
   "id": "21a75f35-d7e4-4b61-9528-e1c91cce5940",
   "metadata": {},
   "source": [
    "20. Remove duplicates from a list."
   ]
  },
  {
   "cell_type": "code",
   "execution_count": 70,
   "id": "8aa972b0-ad62-4b7f-966a-fd1674fc1f68",
   "metadata": {},
   "outputs": [
    {
     "name": "stdout",
     "output_type": "stream",
     "text": [
      "Before Removing Duplicate [1, 1, 2, 3, 3, 4, 5, 5, 5, 6, 7, 8, 8, 8, 9]\n",
      "After Removing Duplicate [1, 2, 3, 4, 5, 6, 7, 8, 9]\n"
     ]
    }
   ],
   "source": [
    "print(\"Before Removing Duplicate\",l6)\n",
    "s = set(l6)\n",
    "l6 = list(s)\n",
    "print(\"After Removing Duplicate\",l6)"
   ]
  },
  {
   "cell_type": "markdown",
   "id": "a9efbae2-edc5-4027-9eed-7273f357f244",
   "metadata": {},
   "source": [
    "21. Find the common elements between two lists."
   ]
  },
  {
   "cell_type": "code",
   "execution_count": 71,
   "id": "e7990e3e-7350-4445-965e-a53bf1f41382",
   "metadata": {},
   "outputs": [
    {
     "data": {
      "text/plain": [
       "[3, 5]"
      ]
     },
     "execution_count": 71,
     "metadata": {},
     "output_type": "execute_result"
    }
   ],
   "source": [
    "l1 = [1,2,3,4,5,6,7]\n",
    "l2 = [3,5,8,9,10,11]\n",
    "list(set(l1).intersection(l2))"
   ]
  },
  {
   "cell_type": "markdown",
   "id": "e6b7ebbb-5599-4467-b41f-f4ad5263f843",
   "metadata": {},
   "source": [
    "22. Find the difference between two lists."
   ]
  },
  {
   "cell_type": "code",
   "execution_count": 72,
   "id": "d115a1b6-78bc-4448-b6da-f656375a3039",
   "metadata": {},
   "outputs": [
    {
     "data": {
      "text/plain": [
       "[1, 2, 4, 6, 7]"
      ]
     },
     "execution_count": 72,
     "metadata": {},
     "output_type": "execute_result"
    }
   ],
   "source": [
    "l1 = [1,2,3,4,5,6,7]\n",
    "l2 = [3,5,8,9,10,11]\n",
    "list(set(l1)- set(l2))"
   ]
  },
  {
   "cell_type": "markdown",
   "id": "03cccc04-149c-40cd-a420-2c82f0c2d62d",
   "metadata": {},
   "source": [
    "23. Merge two lists."
   ]
  },
  {
   "cell_type": "code",
   "execution_count": 73,
   "id": "74ef0fd6-4333-4a75-b448-b8f50c5bb04f",
   "metadata": {},
   "outputs": [
    {
     "data": {
      "text/plain": [
       "[1, 2, 3, 4, 5, 6, 7, 3, 5, 8, 9, 10, 11]"
      ]
     },
     "execution_count": 73,
     "metadata": {},
     "output_type": "execute_result"
    }
   ],
   "source": [
    "l1 = [1,2,3,4,5,6,7]\n",
    "l2 = [3,5,8,9,10,11]\n",
    "l1+l2"
   ]
  },
  {
   "cell_type": "markdown",
   "id": "794bb86d-f282-438b-87bf-6c58a35e5a3d",
   "metadata": {},
   "source": [
    "24. Multiply all elements in a list by 2."
   ]
  },
  {
   "cell_type": "code",
   "execution_count": 74,
   "id": "cc89c6a0-ff4e-4d85-899e-b89f7bca56fd",
   "metadata": {},
   "outputs": [
    {
     "data": {
      "text/plain": [
       "[2, 4, 6, 8, 10]"
      ]
     },
     "execution_count": 74,
     "metadata": {},
     "output_type": "execute_result"
    }
   ],
   "source": [
    "l1 = [1,2,3,4,5]\n",
    "new_l1 = [i*2 for i in l1]\n",
    "new_l1"
   ]
  },
  {
   "cell_type": "markdown",
   "id": "9683e190-46b0-446f-967f-ddbee88fe79e",
   "metadata": {},
   "source": [
    "25. Filter out all even numbers from a list."
   ]
  },
  {
   "cell_type": "code",
   "execution_count": 75,
   "id": "597124ed-8f37-42ae-983d-cc1bc8b1142b",
   "metadata": {},
   "outputs": [
    {
     "name": "stdout",
     "output_type": "stream",
     "text": [
      "[2, 4, 6, 8]\n"
     ]
    }
   ],
   "source": [
    "l1 = [1,2,3,4,5,6,7,8]\n",
    "even = filter(lambda x: x%2 == 0,l1)\n",
    "print(list(even))"
   ]
  },
  {
   "cell_type": "markdown",
   "id": "f256ab64-092e-4aae-a2ef-4cefdf69897d",
   "metadata": {},
   "source": [
    "26. Convert a list of strings to a list of integers."
   ]
  },
  {
   "cell_type": "code",
   "execution_count": 76,
   "id": "cb2b4975-33ed-4d0a-b073-2e85a4eb121c",
   "metadata": {},
   "outputs": [
    {
     "name": "stdout",
     "output_type": "stream",
     "text": [
      "[1, 2, 3, 4, 5]\n"
     ]
    }
   ],
   "source": [
    "l1 = [\"1\",\"2\",\"3\",\"4\",\"5\"]\n",
    "new_l1 = [int(i) for i in l1]\n",
    "print(new_l1)"
   ]
  },
  {
   "cell_type": "markdown",
   "id": "1b81ca45-a87c-4975-94b0-7107f14547bd",
   "metadata": {},
   "source": [
    "27. Convert a list of integers to a list of strings."
   ]
  },
  {
   "cell_type": "raw",
   "id": "aec594ba-2266-4c79-b26a-f5edbffb3507",
   "metadata": {},
   "source": [
    "a=[1,2,3]\n",
    "b=[str(x) for x in a]\n",
    "print(b)"
   ]
  },
  {
   "cell_type": "markdown",
   "id": "22342831-f363-467b-9c06-0d4760a60846",
   "metadata": {},
   "source": [
    "28. Flatten a nested list."
   ]
  },
  {
   "cell_type": "code",
   "execution_count": 77,
   "id": "0f175946-f9c8-4da3-88a7-43ab7dfafdce",
   "metadata": {},
   "outputs": [
    {
     "data": {
      "text/plain": [
       "[1, 2, 3, 4, 5, 1, 2, 3, 4, 5]"
      ]
     },
     "execution_count": 77,
     "metadata": {},
     "output_type": "execute_result"
    }
   ],
   "source": [
    "l1 = [[1,2],[3,4,5],[1,2,3,4,5]]\n",
    "sum(l1,[])"
   ]
  },
  {
   "cell_type": "markdown",
   "id": "3698d54b-145c-4950-a10c-ed66ada4b806",
   "metadata": {},
   "source": [
    "29. Create a list of the first 10 Fibonacci numbers."
   ]
  },
  {
   "cell_type": "code",
   "execution_count": 78,
   "id": "029e80ba-901a-4e44-8319-e7a239981209",
   "metadata": {},
   "outputs": [
    {
     "name": "stdout",
     "output_type": "stream",
     "text": [
      "[0, 1, 1, 2, 3, 5, 8, 13, 21, 34]\n"
     ]
    }
   ],
   "source": [
    "n = 10\n",
    "\n",
    "def gen_fib(n):\n",
    "    if n <= 1:\n",
    "        return n\n",
    "    else:\n",
    "        return gen_fib(n - 1) + gen_fib(n - 2)\n",
    "\n",
    "fibonacci_sequence = [gen_fib(i) for i in range(n)]\n",
    "print(fibonacci_sequence)\n",
    "\n",
    "    "
   ]
  },
  {
   "cell_type": "markdown",
   "id": "447c54f1-c10f-42c4-b34b-ec60bbeaecf7",
   "metadata": {},
   "source": [
    "30. Check if a list is sorted."
   ]
  },
  {
   "cell_type": "code",
   "execution_count": 79,
   "id": "bf50ad39-f2b1-418d-b617-7de164f0feb3",
   "metadata": {},
   "outputs": [
    {
     "name": "stdout",
     "output_type": "stream",
     "text": [
      "List is not sorted\n"
     ]
    }
   ],
   "source": [
    "l1 = [4, 5, 2, 1, 8, 4, 3, 7, 9]\n",
    "for i in range(len(l1) - 1):\n",
    "    if l1[i] > l1[i + 1]:\n",
    "        print(\"List is not sorted\")\n",
    "        break\n",
    "else:\n",
    "    print(\"List is sorted\")\n"
   ]
  },
  {
   "cell_type": "markdown",
   "id": "09226cd7-02d6-4f18-8923-de91c4df90fe",
   "metadata": {},
   "source": [
    "31. Rotate a list to the left by n positions."
   ]
  },
  {
   "cell_type": "code",
   "execution_count": 80,
   "id": "e1fe5f40-b459-47a2-9737-e7401329eab2",
   "metadata": {},
   "outputs": [
    {
     "name": "stdout",
     "output_type": "stream",
     "text": [
      "[3, 4, 5, 1, 2]\n"
     ]
    }
   ],
   "source": [
    "original_list = [1, 2, 3, 4, 5]\n",
    "n_positions = 2\n",
    "\n",
    "n_positions = n_positions % len(original_list)\n",
    "rotated_list = original_list[n_positions:] + original_list[:n_positions]\n",
    "\n",
    "print(rotated_list)\n"
   ]
  },
  {
   "cell_type": "markdown",
   "id": "caf59ce1-388c-4b00-bc12-ec89ba757d18",
   "metadata": {},
   "source": [
    "31. Rotate a list to the right by n positions."
   ]
  },
  {
   "cell_type": "code",
   "execution_count": 81,
   "id": "982dab52-a52d-46b5-9e1a-aabaf1d9d564",
   "metadata": {},
   "outputs": [
    {
     "name": "stdout",
     "output_type": "stream",
     "text": [
      "[4, 5, 1, 2, 3]\n"
     ]
    }
   ],
   "source": [
    "original_list = [1, 2, 3, 4, 5]\n",
    "n_positions = 2\n",
    "\n",
    "n_positions = n_positions % len(original_list)\n",
    "rotated_list = original_list[-n_positions:] + original_list[:-n_positions]\n",
    "\n",
    "print(rotated_list)\n"
   ]
  },
  {
   "cell_type": "markdown",
   "id": "a2d29ea5-a68d-43d8-bd68-8d4e51a42ced",
   "metadata": {},
   "source": [
    "33. Create a list of prime numbers up to 50."
   ]
  },
  {
   "cell_type": "code",
   "execution_count": 82,
   "id": "e926d899-93a7-4cbd-b68d-9320d5afc80c",
   "metadata": {},
   "outputs": [
    {
     "name": "stdout",
     "output_type": "stream",
     "text": [
      "List of prime numbers up to 50: [2, 3, 5, 7, 11, 13, 17, 19, 23, 29, 31, 37, 41, 43, 47]\n"
     ]
    }
   ],
   "source": [
    "def is_prime(num):\n",
    "    if num < 2:\n",
    "        return False\n",
    "    for i in range(2, int(num**0.5) + 1):\n",
    "        if num % i == 0:\n",
    "            return False\n",
    "    return True\n",
    "\n",
    "# Create a list of prime numbers up to 50\n",
    "prime_numbers = [num for num in range(2, 51) if is_prime(num)]\n",
    "\n",
    "print(\"List of prime numbers up to 50:\", prime_numbers)\n",
    "\n"
   ]
  },
  {
   "cell_type": "markdown",
   "id": "7789d030-2660-407c-bf25-0fe6b1adec5e",
   "metadata": {},
   "source": [
    "34. Split a list into chunks of size `n`."
   ]
  },
  {
   "cell_type": "code",
   "execution_count": 83,
   "id": "450ce153-0cab-4590-b5b3-93430103bc76",
   "metadata": {},
   "outputs": [
    {
     "name": "stdout",
     "output_type": "stream",
     "text": [
      "[[1, 2, 3], [4, 5, 6], [7, 8, 91], [0]]\n"
     ]
    }
   ],
   "source": [
    "def split_chuncks(l1,n):\n",
    "    return [l1[i:i+n] for i in range (0,len(l1),n)]\n",
    "\n",
    "l1 = [1,2,3,4,5,6,7,8,91,0]\n",
    "n = 3\n",
    "\n",
    "result = split_chuncks(l1,n)\n",
    "print(result)\n",
    "            "
   ]
  },
  {
   "cell_type": "markdown",
   "id": "be4bb07a-e0f3-4500-87f9-998887e56605",
   "metadata": {},
   "source": [
    "35. Find the second largest number in a list."
   ]
  },
  {
   "cell_type": "code",
   "execution_count": 84,
   "id": "03ed773f-52b9-4103-a657-5cec60f5a478",
   "metadata": {},
   "outputs": [
    {
     "name": "stdout",
     "output_type": "stream",
     "text": [
      "Second largest number: 77\n"
     ]
    }
   ],
   "source": [
    "l1 = [2,4,10,15,54,15,64,78,11,77]\n",
    "\n",
    "l1.sort()\n",
    "print(\"Second largest number:\",l1[-2])"
   ]
  },
  {
   "cell_type": "markdown",
   "id": "071a05d3-b636-46ee-a31f-b2cc37f69b35",
   "metadata": {},
   "source": [
    "36. Replace every element in a list with its square."
   ]
  },
  {
   "cell_type": "code",
   "execution_count": 85,
   "id": "23913285-db0b-4524-a5f9-eaa95ef6b74f",
   "metadata": {},
   "outputs": [
    {
     "name": "stdout",
     "output_type": "stream",
     "text": [
      "[1, 4, 9, 16, 25]\n"
     ]
    }
   ],
   "source": [
    "l1 = [1,2,3,4,5]\n",
    "expo = 2\n",
    "\n",
    "result = [i ** 2 for i in l1]\n",
    "print(result)"
   ]
  },
  {
   "cell_type": "markdown",
   "id": "149f258b-bfe2-48be-bc85-08759f50e4df",
   "metadata": {},
   "source": [
    "37. Convert a list to a dictionary where list elements become keys and their indices become values."
   ]
  },
  {
   "cell_type": "code",
   "execution_count": 86,
   "id": "2490870a-fcf4-4479-9484-068a16c2a023",
   "metadata": {},
   "outputs": [
    {
     "name": "stdout",
     "output_type": "stream",
     "text": [
      "{'apple': 0, 'banana': 1, 'orange': 2}\n"
     ]
    }
   ],
   "source": [
    "my_list = ['apple', 'banana', 'orange']\n",
    "\n",
    "# Using a dictionary comprehension\n",
    "result_dict = {value: index for index, value in enumerate(my_list)}\n",
    "\n",
    "print(result_dict)"
   ]
  },
  {
   "cell_type": "markdown",
   "id": "fda66de4-3e29-44ed-a17c-25a1bda006b1",
   "metadata": {},
   "source": [
    "38. Shuffle the elements of a list randomly."
   ]
  },
  {
   "cell_type": "code",
   "execution_count": 87,
   "id": "4ce0d9cf-59ee-4fa3-80a9-bd379517de30",
   "metadata": {},
   "outputs": [
    {
     "name": "stdout",
     "output_type": "stream",
     "text": [
      "[1, 5, 6, 8, 3, 4, 2, 7, 10, 9]\n"
     ]
    }
   ],
   "source": [
    "import random\n",
    "\n",
    "l1 = [1,2,3,4,5,6,7,8,9,10]\n",
    "random.shuffle(l1)\n",
    "print(l1)"
   ]
  },
  {
   "cell_type": "markdown",
   "id": "2036a8fb-ca88-41d0-8732-a3c1bf9918fe",
   "metadata": {},
   "source": [
    "39. Create a list of the first 10 factorial numbers."
   ]
  },
  {
   "cell_type": "code",
   "execution_count": 88,
   "id": "fa1fbbd0-8372-4004-a356-a04253558486",
   "metadata": {},
   "outputs": [
    {
     "name": "stdout",
     "output_type": "stream",
     "text": [
      "[1, 2, 6, 24, 120, 720, 5040, 40320, 362880, 3628800]\n"
     ]
    }
   ],
   "source": [
    "def fact(n):\n",
    "    if n == 1:\n",
    "        return 1\n",
    "    else:\n",
    "        return n * fact(n-1)\n",
    "\n",
    "fact_list = [fact(i) for i in range(1, 11)]\n",
    "print(fact_list)"
   ]
  },
  {
   "cell_type": "markdown",
   "id": "f232388d-cfd9-4a5d-96f9-de9fe449682c",
   "metadata": {},
   "source": [
    "40. Check if two lists have at least one element in common."
   ]
  },
  {
   "cell_type": "code",
   "execution_count": 89,
   "id": "fed0e229-bb3c-4cd2-8330-8d292930655e",
   "metadata": {},
   "outputs": [
    {
     "name": "stdout",
     "output_type": "stream",
     "text": [
      "Has Common Element\n"
     ]
    }
   ],
   "source": [
    "def common_element(l1,l2):\n",
    "    for element in l1:\n",
    "        if element in l2:\n",
    "            return True\n",
    "        else:\n",
    "            return True\n",
    "        \n",
    "l1 = [1,2,3,4]\n",
    "l2 = [3,5,6,7]\n",
    "\n",
    "if common_element(l1,l2):\n",
    "    print(\"Has Common Element\")\n",
    "else:\n",
    "    print(\"Not have Common Element\")"
   ]
  },
  {
   "cell_type": "markdown",
   "id": "35d744fc-1be6-469d-86de-c39401966b6d",
   "metadata": {},
   "source": [
    "41. Remove all elements from a list."
   ]
  },
  {
   "cell_type": "code",
   "execution_count": 90,
   "id": "be694df7-9d95-4462-b6e2-67f5480eb09a",
   "metadata": {},
   "outputs": [
    {
     "data": {
      "text/plain": [
       "[]"
      ]
     },
     "execution_count": 90,
     "metadata": {},
     "output_type": "execute_result"
    }
   ],
   "source": [
    "l1 = [1,2,3,4,5]\n",
    "l1.clear()\n",
    "l1"
   ]
  },
  {
   "cell_type": "markdown",
   "id": "110b23fe-e586-4d99-bba8-ad88295e877f",
   "metadata": {},
   "source": [
    "42. Replace negative numbers in a list with 0."
   ]
  },
  {
   "cell_type": "code",
   "execution_count": 91,
   "id": "51ce389e-77d9-439f-a92b-f0a062db3726",
   "metadata": {},
   "outputs": [
    {
     "name": "stdout",
     "output_type": "stream",
     "text": [
      "[1, 0, 4, 0, 3, 0, 0]\n"
     ]
    }
   ],
   "source": [
    "l1 = [1,-5,4,-7,3,-1,-2]\n",
    "l1 = [0 if i<= 0 else i for i in l1]\n",
    "print(l1)"
   ]
  },
  {
   "cell_type": "markdown",
   "id": "f9032876-633d-46cc-a1e2-e59471821e14",
   "metadata": {},
   "source": [
    "43. Convert a string into a list of words."
   ]
  },
  {
   "cell_type": "code",
   "execution_count": 92,
   "id": "8ce310ae-4a06-47a4-9ef0-60056e9f2aaf",
   "metadata": {},
   "outputs": [
    {
     "name": "stdout",
     "output_type": "stream",
     "text": [
      "['My', 'name', 'is', 'Suraj']\n"
     ]
    }
   ],
   "source": [
    "l1 = \"My name is Suraj\"\n",
    "new_list=l1.split(' ')\n",
    "print(new_list)"
   ]
  },
  {
   "cell_type": "markdown",
   "id": "8ce07608-9f15-4ab9-9f31-67ac6883c42c",
   "metadata": {},
   "source": [
    "44. Convert a list of words into a string."
   ]
  },
  {
   "cell_type": "code",
   "execution_count": 93,
   "id": "f17987d3-e983-4477-9dc2-d82393c2bb8f",
   "metadata": {},
   "outputs": [
    {
     "name": "stdout",
     "output_type": "stream",
     "text": [
      "My name is Suraj\n"
     ]
    }
   ],
   "source": [
    "l1 = ['My', 'name', 'is', 'Suraj']\n",
    "new_list = ' '.join(l1)\n",
    "print(new_list)"
   ]
  },
  {
   "cell_type": "markdown",
   "id": "f008c5ac-361c-450e-a8e3-89935bafbe10",
   "metadata": {},
   "source": [
    "45. Create a list of the first `n` powers of 2."
   ]
  },
  {
   "cell_type": "code",
   "execution_count": 94,
   "id": "e3dbe64b-13c0-48ec-8c20-b36c7cb52a9d",
   "metadata": {},
   "outputs": [
    {
     "name": "stdout",
     "output_type": "stream",
     "text": [
      "[1, 2, 4, 8, 16]\n"
     ]
    }
   ],
   "source": [
    "n = 5\n",
    "\n",
    "power_of_2 = [2 ** i for i in range(n)]\n",
    "print(power_of_2)"
   ]
  },
  {
   "cell_type": "markdown",
   "id": "388e2fc9-c305-4d62-9e89-f79f16d481bb",
   "metadata": {},
   "source": [
    "46. Find the longest string in a list of strings."
   ]
  },
  {
   "cell_type": "code",
   "execution_count": 95,
   "id": "77495de9-c303-4088-98d1-cfd85e7e1197",
   "metadata": {},
   "outputs": [
    {
     "name": "stdout",
     "output_type": "stream",
     "text": [
      "Suraj\n"
     ]
    }
   ],
   "source": [
    "l1 = [\"My\" ,\"Name\",\"is\",\"Suraj\"]\n",
    "long_str = max(l1,key=len)\n",
    "print(long_str)\n",
    "    "
   ]
  },
  {
   "cell_type": "markdown",
   "id": "fbc84eb0-4d9c-47c4-b674-a1eca129450a",
   "metadata": {},
   "source": [
    "47. Find the shortest string in a list of strings."
   ]
  },
  {
   "cell_type": "code",
   "execution_count": 96,
   "id": "bb7cc9c7-3bed-4fce-af61-e135a4eba723",
   "metadata": {},
   "outputs": [
    {
     "name": "stdout",
     "output_type": "stream",
     "text": [
      "My\n"
     ]
    }
   ],
   "source": [
    "l1 = [\"My\" ,\"Name\",\"is\",\"Suraj\"]\n",
    "long_str = min(l1,key=len)\n",
    "print(long_str)"
   ]
  },
  {
   "cell_type": "markdown",
   "id": "f2c21200-1651-4765-a614-e6c079c49dfe",
   "metadata": {},
   "source": [
    "48. Create a list of the first `n` triangular numbers."
   ]
  },
  {
   "cell_type": "code",
   "execution_count": 97,
   "id": "ce43102e-d833-46f8-acc5-b9c528209a3a",
   "metadata": {},
   "outputs": [
    {
     "name": "stdout",
     "output_type": "stream",
     "text": [
      "[1, 3, 6, 10, 15]\n"
     ]
    }
   ],
   "source": [
    "n = 5  # You can replace this with the desired number of triangular numbers\n",
    "triangular_numbers = [(i * (i + 1)) // 2 for i in range(1, n + 1)]\n",
    "\n",
    "print(triangular_numbers)\n"
   ]
  },
  {
   "cell_type": "markdown",
   "id": "2bdfec82-cefb-44df-9351-8d36a90e3860",
   "metadata": {},
   "source": [
    "49. Check if a list contains another list as a subsequence."
   ]
  },
  {
   "cell_type": "code",
   "execution_count": 98,
   "id": "a437f49b-faeb-4e3f-8700-be07c122072a",
   "metadata": {},
   "outputs": [
    {
     "name": "stdout",
     "output_type": "stream",
     "text": [
      "Sublist is a subsequence of the main list.\n"
     ]
    }
   ],
   "source": [
    "def is_subsequence(sublist, sequence):\n",
    "    i, j = 0, 0\n",
    "\n",
    "    while i < len(sublist) and j < len(sequence):\n",
    "        if sublist[i] == sequence[j]:\n",
    "            i += 1\n",
    "        j += 1\n",
    "\n",
    "    return i == len(sublist)\n",
    "\n",
    "# Example\n",
    "main_list = [1, 2, 3, 4, 5, 6, 7]\n",
    "sub_list = [3, 5, 7]\n",
    "\n",
    "result = is_subsequence(sub_list, main_list)\n",
    "\n",
    "if result:\n",
    "    print(\"Sublist is a subsequence of the main list.\")\n",
    "else:\n",
    "    print(\"Sublist is not a subsequence of the main list.\")\n"
   ]
  },
  {
   "cell_type": "markdown",
   "id": "582cd9fe-fb3a-49e5-81b5-e74c52ecf2a5",
   "metadata": {},
   "source": [
    "50. Swap two elements in a list by their indices."
   ]
  },
  {
   "cell_type": "code",
   "execution_count": 99,
   "id": "9a014049-eaeb-4da7-b366-f554ad1ea1ed",
   "metadata": {},
   "outputs": [
    {
     "name": "stdout",
     "output_type": "stream",
     "text": [
      "[1, 4, 3, 2, 5]\n"
     ]
    }
   ],
   "source": [
    "my_list = [1, 2, 3, 4, 5]\n",
    "\n",
    "# Swap elements at indices 1 and 3\n",
    "index1, index2 = 1, 3\n",
    "my_list[index1], my_list[index2] = my_list[index2], my_list[index1]\n",
    "\n",
    "print(my_list)\n"
   ]
  },
  {
   "cell_type": "markdown",
   "id": "0c6dc12b-ed3e-49a3-8f12-f1c67c038dfc",
   "metadata": {},
   "source": [
    "TOPIC: TUPLE Based Assignment Problem"
   ]
  },
  {
   "cell_type": "markdown",
   "id": "4fe492aa-3a09-4e8f-8b55-8c786af84d25",
   "metadata": {},
   "source": [
    "1. Create a tuple with integers from 1 to 5."
   ]
  },
  {
   "cell_type": "code",
   "execution_count": 100,
   "id": "beaf31dd-d9d8-42de-bbef-740624ca9dd2",
   "metadata": {},
   "outputs": [
    {
     "name": "stdout",
     "output_type": "stream",
     "text": [
      "(1, 2, 3, 4, 5)\n"
     ]
    }
   ],
   "source": [
    "t1 = (1,2,3,4,5)\n",
    "print(t1)"
   ]
  },
  {
   "cell_type": "markdown",
   "id": "f32e1e03-1412-4312-8e51-acf1c711b761",
   "metadata": {},
   "source": [
    "2. Access the third element of a tuple."
   ]
  },
  {
   "cell_type": "code",
   "execution_count": 101,
   "id": "e72d7488-876a-4855-9d33-3afed125df35",
   "metadata": {},
   "outputs": [
    {
     "data": {
      "text/plain": [
       "3"
      ]
     },
     "execution_count": 101,
     "metadata": {},
     "output_type": "execute_result"
    }
   ],
   "source": [
    "t1 = (1,2,3,4,5)\n",
    "t1[2]"
   ]
  },
  {
   "cell_type": "markdown",
   "id": "61ab8246-2e69-4c29-acc7-24b87305f78d",
   "metadata": {},
   "source": [
    "3. Find the length of a tuple without using the `len()` function."
   ]
  },
  {
   "cell_type": "code",
   "execution_count": 102,
   "id": "5eb0826a-b07d-4e93-b556-aef7c860f345",
   "metadata": {},
   "outputs": [
    {
     "name": "stdout",
     "output_type": "stream",
     "text": [
      "5\n"
     ]
    }
   ],
   "source": [
    "t1 = (1,2,3,4,5)\n",
    "count = 0\n",
    "\n",
    "for i in t1:\n",
    "    count +=1\n",
    "print(count)"
   ]
  },
  {
   "cell_type": "markdown",
   "id": "8109e2a0-0b94-4b4e-8263-e80114af94e7",
   "metadata": {},
   "source": [
    "4. Count the occurrences of an element in a tuple."
   ]
  },
  {
   "cell_type": "code",
   "execution_count": 103,
   "id": "47775ae2-3d86-42b4-bd5c-ce5bb65a7ec0",
   "metadata": {},
   "outputs": [
    {
     "data": {
      "text/plain": [
       "3"
      ]
     },
     "execution_count": 103,
     "metadata": {},
     "output_type": "execute_result"
    }
   ],
   "source": [
    "t1 = (1,1,2,3,1,4,5,5,6,7)\n",
    "t1.count(1)"
   ]
  },
  {
   "cell_type": "markdown",
   "id": "7d1c63d8-1952-4913-a97f-05685be747c2",
   "metadata": {},
   "source": [
    "5. Find the index of the first occurrence of an element in a tuple."
   ]
  },
  {
   "cell_type": "code",
   "execution_count": 104,
   "id": "551586c4-c936-4f6e-ab57-54e1b720c8f2",
   "metadata": {},
   "outputs": [
    {
     "data": {
      "text/plain": [
       "6"
      ]
     },
     "execution_count": 104,
     "metadata": {},
     "output_type": "execute_result"
    }
   ],
   "source": [
    "t1 = (1,1,2,3,1,4,5,5,6,7)\n",
    "t1.index(5)"
   ]
  },
  {
   "cell_type": "markdown",
   "id": "bd75c0c8-f5e9-473a-b492-74d260a7e079",
   "metadata": {},
   "source": [
    "6. Check if an element exists in a tuple."
   ]
  },
  {
   "cell_type": "code",
   "execution_count": 105,
   "id": "6205b735-8a8e-42af-a450-82b7616b3879",
   "metadata": {},
   "outputs": [
    {
     "name": "stdout",
     "output_type": "stream",
     "text": [
      "Element is Present\n"
     ]
    }
   ],
   "source": [
    "t1 = (1,1,2,3,1,4,5,5,6,7)\n",
    "i = 4\n",
    "if i in t1:\n",
    "    print(\"Element is Present\")\n",
    "else:\n",
    "    print(\"Element is not present\")"
   ]
  },
  {
   "cell_type": "markdown",
   "id": "d826f677-71c8-4f64-947d-52a4c3a0e3fe",
   "metadata": {},
   "source": [
    "7. Convert a tuple to a list."
   ]
  },
  {
   "cell_type": "code",
   "execution_count": 106,
   "id": "32a86dd0-9f54-4524-b513-7412bdea3c0d",
   "metadata": {},
   "outputs": [
    {
     "data": {
      "text/plain": [
       "[1, 1, 2, 3, 1, 4, 5, 5, 6, 7]"
      ]
     },
     "execution_count": 106,
     "metadata": {},
     "output_type": "execute_result"
    }
   ],
   "source": [
    "t1 = (1,1,2,3,1,4,5,5,6,7)\n",
    "list(t1)"
   ]
  },
  {
   "cell_type": "markdown",
   "id": "a9639b69-548d-4e3c-99ac-45e05f10b9a0",
   "metadata": {},
   "source": [
    "8. Convert a list to a tuple."
   ]
  },
  {
   "cell_type": "code",
   "execution_count": 107,
   "id": "7c0868d1-a365-4228-9682-aaa30d9920a3",
   "metadata": {},
   "outputs": [
    {
     "data": {
      "text/plain": [
       "(1, 1, 2, 3, 1, 4, 5, 5, 6, 7)"
      ]
     },
     "execution_count": 107,
     "metadata": {},
     "output_type": "execute_result"
    }
   ],
   "source": [
    "l1 = [1, 1, 2, 3, 1, 4, 5, 5, 6, 7]\n",
    "tuple(l1)"
   ]
  },
  {
   "cell_type": "markdown",
   "id": "c42e3c1b-1ada-4ead-8d03-1c30dc6bc6a8",
   "metadata": {},
   "source": [
    "9. Unpack the elements of a tuple into variables."
   ]
  },
  {
   "cell_type": "code",
   "execution_count": 108,
   "id": "ae9111fd-f526-4223-bbd4-a1da6efc1d96",
   "metadata": {},
   "outputs": [
    {
     "name": "stdout",
     "output_type": "stream",
     "text": [
      "a : 1\n",
      "b : 2\n",
      "c : 3\n"
     ]
    }
   ],
   "source": [
    "t1 = (1,2,3)\n",
    "a,b,c = t1\n",
    "print(\"a :\",a)\n",
    "print(\"b :\",b)\n",
    "print(\"c :\",c)"
   ]
  },
  {
   "cell_type": "markdown",
   "id": "704da6ab-5384-4f9e-8b8a-9fadf4b9c2e5",
   "metadata": {},
   "source": [
    "10. Create a tuple of even numbers from 1 to 10."
   ]
  },
  {
   "cell_type": "code",
   "execution_count": 109,
   "id": "11698233-57ac-4eb2-bcbc-77e688d01553",
   "metadata": {},
   "outputs": [
    {
     "name": "stdout",
     "output_type": "stream",
     "text": [
      "(2, 4, 6, 8, 10)\n"
     ]
    }
   ],
   "source": [
    "t1 = (1,2,3,4,5,6,7,8,9,10)\n",
    "t = ()\n",
    "for i in t1:\n",
    "    if i%2==0:\n",
    "        t += (i,)\n",
    "print(t)"
   ]
  },
  {
   "cell_type": "markdown",
   "id": "77c839ab-6432-4cc2-aec1-d4edf18dc883",
   "metadata": {},
   "source": [
    "11. Create a tuple of odd numbers from 1 to 10."
   ]
  },
  {
   "cell_type": "code",
   "execution_count": 110,
   "id": "5022661f-77fd-4eb0-90b3-bc3e6ff824a6",
   "metadata": {},
   "outputs": [
    {
     "name": "stdout",
     "output_type": "stream",
     "text": [
      "(1, 3, 5, 7, 9)\n"
     ]
    }
   ],
   "source": [
    "t1 = (1,2,3,4,5,6,7,8,9,10)\n",
    "t = ()\n",
    "for i in t1:\n",
    "    if i%2!=0:\n",
    "        t += (i,)\n",
    "print(t)"
   ]
  },
  {
   "cell_type": "markdown",
   "id": "f5425a12-5cb5-4453-b8de-99a5ed8b6d16",
   "metadata": {},
   "source": [
    "12. Concatenate two tuples."
   ]
  },
  {
   "cell_type": "code",
   "execution_count": 111,
   "id": "8686da33-915b-4d36-8f46-82432395dce5",
   "metadata": {},
   "outputs": [
    {
     "data": {
      "text/plain": [
       "(1, 2, 3, 4, 5, 4, 5, 6, 7, 8)"
      ]
     },
     "execution_count": 111,
     "metadata": {},
     "output_type": "execute_result"
    }
   ],
   "source": [
    "t1 = (1,2,3,4,5)\n",
    "t2 = (4,5,6,7,8)\n",
    "t1 + t2"
   ]
  },
  {
   "cell_type": "markdown",
   "id": "463921d3-28cc-404e-bec6-45b2e8c9feed",
   "metadata": {},
   "source": [
    "13. Repeat a tuple three times."
   ]
  },
  {
   "cell_type": "code",
   "execution_count": 112,
   "id": "d35d2c2b-16f9-448f-a9b0-94f714ba844e",
   "metadata": {},
   "outputs": [
    {
     "data": {
      "text/plain": [
       "(1, 2, 3, 4, 5, 1, 2, 3, 4, 5, 1, 2, 3, 4, 5)"
      ]
     },
     "execution_count": 112,
     "metadata": {},
     "output_type": "execute_result"
    }
   ],
   "source": [
    "t1 = (1,2,3,4,5)\n",
    "t1*3"
   ]
  },
  {
   "cell_type": "markdown",
   "id": "88a221a5-e753-47a3-8288-dcc04b733a06",
   "metadata": {},
   "source": [
    "14. Check if a tuple is empty."
   ]
  },
  {
   "cell_type": "code",
   "execution_count": 113,
   "id": "93ee0dbd-5527-43d5-a89a-3097c703a7ac",
   "metadata": {},
   "outputs": [
    {
     "name": "stdout",
     "output_type": "stream",
     "text": [
      "Tuple is empty\n"
     ]
    }
   ],
   "source": [
    "t1 = ()\n",
    "if len(t1)==0:\n",
    "    print(\"Tuple is empty\")\n",
    "else:\n",
    "    print(\"Tuple is not empty\")"
   ]
  },
  {
   "cell_type": "markdown",
   "id": "655566cb-908e-4219-92a1-c2e62b04fe8e",
   "metadata": {},
   "source": [
    "15. Create a nested tuple."
   ]
  },
  {
   "cell_type": "code",
   "execution_count": 114,
   "id": "7bd7e1c1-2d2d-44c7-aa94-40f70313824f",
   "metadata": {},
   "outputs": [
    {
     "data": {
      "text/plain": [
       "(1, 2, 3, 4, 5, (1, 2, 3))"
      ]
     },
     "execution_count": 114,
     "metadata": {},
     "output_type": "execute_result"
    }
   ],
   "source": [
    "t = (1,2,3,4,5,(1,2,3))\n",
    "t"
   ]
  },
  {
   "cell_type": "markdown",
   "id": "dd7ce37a-fcf6-42e8-a675-7598adeba7a9",
   "metadata": {},
   "source": [
    "16. Access the first element of a nested tuple."
   ]
  },
  {
   "cell_type": "code",
   "execution_count": 115,
   "id": "c0a1ae2c-b428-4a6c-9033-f254e7ad795b",
   "metadata": {},
   "outputs": [
    {
     "data": {
      "text/plain": [
       "1"
      ]
     },
     "execution_count": 115,
     "metadata": {},
     "output_type": "execute_result"
    }
   ],
   "source": [
    "t = (1,2,3,4,5,(1,2,3))\n",
    "t[0]"
   ]
  },
  {
   "cell_type": "markdown",
   "id": "38d164b9-da85-40bf-b3cd-680205588a94",
   "metadata": {},
   "source": [
    "7. Create a tuple with a single element."
   ]
  },
  {
   "cell_type": "code",
   "execution_count": 116,
   "id": "4f457b81-d98b-4dd4-b0fe-afd44fa8dd33",
   "metadata": {},
   "outputs": [
    {
     "name": "stdout",
     "output_type": "stream",
     "text": [
      "('suraj',)\n"
     ]
    }
   ],
   "source": [
    "t1 = (\"suraj\",)\n",
    "print(t1)"
   ]
  },
  {
   "cell_type": "markdown",
   "id": "327d5636-8862-4f13-82ba-1dc4e601cc97",
   "metadata": {},
   "source": [
    "18. Compare two tuples."
   ]
  },
  {
   "cell_type": "code",
   "execution_count": 117,
   "id": "8224915c-7a27-41b9-8b48-5ab9840beabb",
   "metadata": {},
   "outputs": [
    {
     "name": "stdout",
     "output_type": "stream",
     "text": [
      "Tuple are not equal\n"
     ]
    }
   ],
   "source": [
    "t1 = (1,2,3,4,5)\n",
    "t2 = (7,8,9,5,6)\n",
    "\n",
    "if t1==t2:\n",
    "    print(\"Tuple are equal\")\n",
    "else:\n",
    "    print(\"Tuple are not equal\")"
   ]
  },
  {
   "cell_type": "markdown",
   "id": "2d2b5e94-1a7d-4525-8654-aa57e2edb524",
   "metadata": {},
   "source": [
    "19. Delete a tuple."
   ]
  },
  {
   "cell_type": "code",
   "execution_count": 118,
   "id": "bad9d123-e699-4bf7-b94a-01ce88d2109b",
   "metadata": {},
   "outputs": [],
   "source": [
    "t1 = (1,2,3,4,5)\n",
    "del t1"
   ]
  },
  {
   "cell_type": "markdown",
   "id": "48e972de-cdf5-4eab-b6fc-58b1ae102e51",
   "metadata": {},
   "source": [
    "20. Slice a tuple."
   ]
  },
  {
   "cell_type": "code",
   "execution_count": 119,
   "id": "fbe5d641-cf21-418d-bc86-fb13e8313504",
   "metadata": {},
   "outputs": [
    {
     "data": {
      "text/plain": [
       "(1, 2, 3, 4, 5, 6, 7, 8)"
      ]
     },
     "execution_count": 119,
     "metadata": {},
     "output_type": "execute_result"
    }
   ],
   "source": [
    "t1 = (1,2,3,4,5,6,7,8,9)\n",
    "t1[0:-1]"
   ]
  },
  {
   "cell_type": "markdown",
   "id": "04010b1c-d627-430e-bcfc-002351f3a9e8",
   "metadata": {},
   "source": [
    "21. Find the maximum value in a tuple."
   ]
  },
  {
   "cell_type": "code",
   "execution_count": 120,
   "id": "270c447b-23d4-49ad-9d8e-855617374a58",
   "metadata": {},
   "outputs": [
    {
     "data": {
      "text/plain": [
       "6"
      ]
     },
     "execution_count": 120,
     "metadata": {},
     "output_type": "execute_result"
    }
   ],
   "source": [
    "t1 =(1,2,3,4,5,6)\n",
    "max(t1)"
   ]
  },
  {
   "cell_type": "markdown",
   "id": "7fc0546a-d589-4452-a984-656890e1f5d5",
   "metadata": {},
   "source": [
    "22. Find the minimum value in a tuple."
   ]
  },
  {
   "cell_type": "code",
   "execution_count": 121,
   "id": "8046128f-a797-4c77-8a9f-e3a9a04374d0",
   "metadata": {},
   "outputs": [
    {
     "data": {
      "text/plain": [
       "1"
      ]
     },
     "execution_count": 121,
     "metadata": {},
     "output_type": "execute_result"
    }
   ],
   "source": [
    "t1 =(1,2,3,4,5,6)\n",
    "min(t1)"
   ]
  },
  {
   "cell_type": "markdown",
   "id": "15968c85-8007-4e88-8eac-c77cacc6bfc9",
   "metadata": {},
   "source": [
    "23. Convert a string to a tuple of characters."
   ]
  },
  {
   "cell_type": "code",
   "execution_count": 122,
   "id": "c51ee8e0-441b-4848-91f2-df4a18b7b2e7",
   "metadata": {},
   "outputs": [
    {
     "data": {
      "text/plain": [
       "('S', 'u', 'r', 'a', 'j')"
      ]
     },
     "execution_count": 122,
     "metadata": {},
     "output_type": "execute_result"
    }
   ],
   "source": [
    "t1 = \"Suraj\"\n",
    "tuple(t1)"
   ]
  },
  {
   "cell_type": "markdown",
   "id": "98c6d3c0-72e2-400f-87f7-fba460d475b1",
   "metadata": {},
   "source": [
    "24. Convert a tuple of characters to a string."
   ]
  },
  {
   "cell_type": "code",
   "execution_count": 123,
   "id": "8d3ce488-d9b2-4116-b3f6-3bbb61382d44",
   "metadata": {},
   "outputs": [
    {
     "name": "stdout",
     "output_type": "stream",
     "text": [
      "s u r a j\n"
     ]
    }
   ],
   "source": [
    "t1 = ('s','u','r','a','j')\n",
    "result = ' '.join(t1)\n",
    "print(result)"
   ]
  },
  {
   "cell_type": "markdown",
   "id": "d2f94f40-40e1-42ca-9908-ad9e135f3e2d",
   "metadata": {
    "tags": []
   },
   "source": [
    "25. Create a tuple from multiple data types."
   ]
  },
  {
   "cell_type": "code",
   "execution_count": 124,
   "id": "276608a9-5d9c-4271-949d-da7d29a8194c",
   "metadata": {},
   "outputs": [
    {
     "name": "stdout",
     "output_type": "stream",
     "text": [
      "(1, 2, 3, 'suraj', True, (3+4j))\n"
     ]
    }
   ],
   "source": [
    "t1 = (1,2,3,\"suraj\",True,3+4j)\n",
    "print(t1)"
   ]
  },
  {
   "cell_type": "markdown",
   "id": "82830410-7acd-4bc0-bc0a-305996da0666",
   "metadata": {},
   "source": [
    "26. Check if two tuples are identical."
   ]
  },
  {
   "cell_type": "code",
   "execution_count": 125,
   "id": "2baa91d8-69ff-4fb7-841f-8e98edc591f1",
   "metadata": {},
   "outputs": [
    {
     "name": "stdout",
     "output_type": "stream",
     "text": [
      "Both tuples are identical\n"
     ]
    }
   ],
   "source": [
    "t1 = (1,2,3,4,5)\n",
    "t2 = (1,2,3,4,5)\n",
    "\n",
    "if t1==t2:\n",
    "    print(\"Both tuples are identical\")\n",
    "else:\n",
    "    print(\"Both tuple are not identical\")"
   ]
  },
  {
   "cell_type": "markdown",
   "id": "92dedcaf-66dd-4899-a2d2-32c79a2f7914",
   "metadata": {},
   "source": [
    "27. Sort the elements of a tuple."
   ]
  },
  {
   "cell_type": "code",
   "execution_count": 126,
   "id": "01382335-2cde-4968-a95e-f0c22e24138a",
   "metadata": {},
   "outputs": [
    {
     "data": {
      "text/plain": [
       "{1, 2, 5, 6, 7, 9}"
      ]
     },
     "execution_count": 126,
     "metadata": {},
     "output_type": "execute_result"
    }
   ],
   "source": [
    "t1 = (2,5,2,7,6,9,1)\n",
    "set(t1)"
   ]
  },
  {
   "cell_type": "markdown",
   "id": "1289e628-6938-4f74-ab8c-53d19a5d72a4",
   "metadata": {},
   "source": [
    "28. Convert a tuple of integers to a tuple of strings."
   ]
  },
  {
   "cell_type": "raw",
   "id": "b0548ea9-a23a-437d-a6d3-b7528807b29a",
   "metadata": {},
   "source": [
    "t1 = (1,2,3,4,5)\n",
    "result = list(map(str,t1))\n",
    "print(result)"
   ]
  },
  {
   "cell_type": "markdown",
   "id": "9301df58-0e8f-498b-b8d7-820d2a86c679",
   "metadata": {},
   "source": [
    "29. Convert a tuple of strings to a tuple of integers."
   ]
  },
  {
   "cell_type": "code",
   "execution_count": 127,
   "id": "335f37ee-4566-40bd-800f-ebd9c8e6969e",
   "metadata": {},
   "outputs": [
    {
     "name": "stdout",
     "output_type": "stream",
     "text": [
      "(1, 2, 3, 4, 5)\n"
     ]
    }
   ],
   "source": [
    "t1 = ('1','2','3','4','5')\n",
    "result = tuple(map(int,t1))\n",
    "print(result)"
   ]
  },
  {
   "cell_type": "markdown",
   "id": "c589dbce-b13e-4e53-a7e0-db3efe7bd7af",
   "metadata": {},
   "source": [
    "30. Merge two tuples."
   ]
  },
  {
   "cell_type": "code",
   "execution_count": 128,
   "id": "f46191e3-d378-40d2-a4c9-bab7f5d5242e",
   "metadata": {},
   "outputs": [
    {
     "data": {
      "text/plain": [
       "(1, 2, 3, 4, 5, 4, 5, 6, 7, 8)"
      ]
     },
     "execution_count": 128,
     "metadata": {},
     "output_type": "execute_result"
    }
   ],
   "source": [
    "t1 = (1,2,3,4,5)\n",
    "t2 = (4,5,6,7,8)\n",
    "t1 + t2"
   ]
  },
  {
   "cell_type": "markdown",
   "id": "31823e87-7c78-4c0d-b019-0b097fec0300",
   "metadata": {},
   "source": [
    "31. Flatten a nested tuple."
   ]
  },
  {
   "cell_type": "code",
   "execution_count": 129,
   "id": "9afce45e-1081-4a1c-9e44-84e72fd51531",
   "metadata": {},
   "outputs": [
    {
     "name": "stdout",
     "output_type": "stream",
     "text": [
      "(1, 2, 3, 4, 5, 6, 7, 8, 9)\n"
     ]
    }
   ],
   "source": [
    "t1 = (1,2,3,(4,5),6,(7,8,9))\n",
    "\n",
    "def flatten_object(nested_tuple):\n",
    "    for item in nested_tuple:\n",
    "        if isinstance (item,tuple):\n",
    "            yield from flatten_object(item)\n",
    "        else:\n",
    "            yield item\n",
    "    \n",
    "flatten_object = tuple(flatten_object(t1))\n",
    "print(flatten_object)"
   ]
  },
  {
   "cell_type": "markdown",
   "id": "a9ba2b31-f107-45a0-8e76-760672449a14",
   "metadata": {},
   "source": [
    "32. Create a tuple of the first 5 prime numbers."
   ]
  },
  {
   "cell_type": "code",
   "execution_count": 130,
   "id": "8f7c8f76-e00f-4d95-a648-c05071b23977",
   "metadata": {},
   "outputs": [
    {
     "name": "stdout",
     "output_type": "stream",
     "text": [
      "(2, 3, 5, 7, 9)\n"
     ]
    }
   ],
   "source": [
    "def primes(n):\n",
    "    primes = []\n",
    "    num = 2\n",
    "    \n",
    "    while len(primes)<n:\n",
    "        is_prime = True\n",
    "        for i in range(2, int(num ** 0.5)+1):\n",
    "            if num%2==0:\n",
    "                is_prime = False\n",
    "                break\n",
    "                \n",
    "        if is_prime:\n",
    "            primes.append(num)\n",
    "            \n",
    "        num += 1\n",
    "        \n",
    "    return tuple(primes)\n",
    "\n",
    "\n",
    "first_five_primes = primes(5)\n",
    "print(first_five_primes)\n"
   ]
  },
  {
   "cell_type": "markdown",
   "id": "7bf4d5ad-5b42-4205-8e21-50dcb70f0e85",
   "metadata": {},
   "source": [
    "33. Check if a tuple is a palindrome."
   ]
  },
  {
   "cell_type": "code",
   "execution_count": 131,
   "id": "9e714e9d-cda3-46e3-9213-53dde80d7219",
   "metadata": {},
   "outputs": [
    {
     "name": "stdout",
     "output_type": "stream",
     "text": [
      "Tuple is Pallindrome\n"
     ]
    }
   ],
   "source": [
    "t1 = (1,2,3,2,1)\n",
    "\n",
    "if t1 == t1[::-1]:\n",
    "    print(\"Tuple is Pallindrome\")\n",
    "else:\n",
    "    print(\"Tuple is not Pallindrome\")"
   ]
  },
  {
   "cell_type": "markdown",
   "id": "28aa6bd1-5e0e-49c0-8718-fd4f5a20fc1e",
   "metadata": {},
   "source": [
    "34. Create a tuple of squares of numbers from 1 to 5."
   ]
  },
  {
   "cell_type": "code",
   "execution_count": 132,
   "id": "307b1c52-13ba-4bb2-9b35-e5212db3ca1e",
   "metadata": {},
   "outputs": [
    {
     "name": "stdout",
     "output_type": "stream",
     "text": [
      "(1, 4, 9, 16, 25)\n"
     ]
    }
   ],
   "source": [
    "square = tuple(i**2 for i in range(1,6))\n",
    "print(square)"
   ]
  },
  {
   "cell_type": "markdown",
   "id": "00f1cc9a-75d5-4d10-9037-d6b9330515e1",
   "metadata": {},
   "source": [
    "35. Filter out all even numbers from a tuple."
   ]
  },
  {
   "cell_type": "code",
   "execution_count": 133,
   "id": "19ac9cdc-762f-42c4-8eb7-7197a89c25d5",
   "metadata": {},
   "outputs": [
    {
     "name": "stdout",
     "output_type": "stream",
     "text": [
      "(2, 4, 6, 8, 10)\n"
     ]
    }
   ],
   "source": [
    "t1 = (1,2,3,4,5,6,7,8,9,10)\n",
    "\n",
    "even_num = []\n",
    "\n",
    "for i in t1:\n",
    "    if i%2 ==0:\n",
    "        even_num.append(i)\n",
    "\n",
    "print(tuple(even_num))"
   ]
  },
  {
   "cell_type": "markdown",
   "id": "36957f52-9ce5-4c3e-9b15-1a6d618b246e",
   "metadata": {},
   "source": [
    "36. Multiply all elements in a tuple by 2."
   ]
  },
  {
   "cell_type": "code",
   "execution_count": 134,
   "id": "820d17c2-79bc-4cd9-b989-88c679bd0a33",
   "metadata": {},
   "outputs": [
    {
     "name": "stdout",
     "output_type": "stream",
     "text": [
      "(2, 4, 6, 8, 10)\n"
     ]
    }
   ],
   "source": [
    "t1 = (1,2,3,4,5)\n",
    "\n",
    "double_element = tuple((i * 2 for i in t1))\n",
    "print(double_element)"
   ]
  },
  {
   "cell_type": "markdown",
   "id": "1e03ca53-7fb4-4168-9661-74414ca24845",
   "metadata": {},
   "source": [
    "37. Create a tuple of random numbers."
   ]
  },
  {
   "cell_type": "code",
   "execution_count": 135,
   "id": "8bdcbdd0-88ff-4905-b885-4f4de68b4c06",
   "metadata": {},
   "outputs": [
    {
     "name": "stdout",
     "output_type": "stream",
     "text": [
      "(31, 11, 75, 38, 54)\n"
     ]
    }
   ],
   "source": [
    "import random\n",
    "\n",
    "num_random_number = 5\n",
    "random_number = tuple(random.randint(1,100) for _ in range(num_random_number))\n",
    "print(random_number)"
   ]
  },
  {
   "cell_type": "markdown",
   "id": "4a62ef9b-6d2f-4e83-a268-06e806e18774",
   "metadata": {},
   "source": [
    "38. Check if a tuple is sorted."
   ]
  },
  {
   "cell_type": "code",
   "execution_count": 136,
   "id": "18f453bd-3af0-4122-ae40-961c1e01789f",
   "metadata": {},
   "outputs": [
    {
     "name": "stdout",
     "output_type": "stream",
     "text": [
      "Tuple is not sorted\n"
     ]
    }
   ],
   "source": [
    "t1 = (1,5,3,4,6,2,8,5,3)\n",
    "\n",
    "for i in range(len(t1)-1):\n",
    "    if t1[i] > t1[i+1]:\n",
    "        print(\"Tuple is not sorted\")\n",
    "        break\n",
    "        \n",
    "else:\n",
    "    print(\"Tuple is sorted\")"
   ]
  },
  {
   "cell_type": "markdown",
   "id": "7f3a879e-b7ed-4471-be18-debec10a8e89",
   "metadata": {},
   "source": [
    "39. Rotate a tuple to the left by `n` positions."
   ]
  },
  {
   "cell_type": "code",
   "execution_count": 137,
   "id": "b22b5411-b9a7-4a05-bd2d-5f6f1d1b2ee0",
   "metadata": {},
   "outputs": [
    {
     "name": "stdout",
     "output_type": "stream",
     "text": [
      "(3, 4, 5, 1, 2)\n"
     ]
    }
   ],
   "source": [
    "def rotate_left(t, n):\n",
    "    n = n % len(t)  # Ensure n is within the length of the tuple\n",
    "    rotated_tuple = t[n:] + t[:n]\n",
    "    return rotated_tuple\n",
    "\n",
    "# Example usage:\n",
    "original_tuple = (1, 2, 3, 4, 5)\n",
    "positions_to_rotate = 2\n",
    "\n",
    "rotated_tuple = rotate_left(original_tuple, positions_to_rotate)\n",
    "print(rotated_tuple)\n"
   ]
  },
  {
   "cell_type": "markdown",
   "id": "f09884ae-ff35-47fd-a06f-ca8b43faedcd",
   "metadata": {},
   "source": [
    "40. Rotate a tuple to the right by `n` positions."
   ]
  },
  {
   "cell_type": "code",
   "execution_count": 138,
   "id": "e296b41d-9346-4609-82b8-f5ed9972e92f",
   "metadata": {},
   "outputs": [
    {
     "name": "stdout",
     "output_type": "stream",
     "text": [
      "(5, 1, 2, 3, 4)\n"
     ]
    }
   ],
   "source": [
    "def rotate_right(t,n):\n",
    "    n = n % len(t)\n",
    "    rotated_tuple = t[-1:] + t[:-1]\n",
    "    return rotated_tuple\n",
    "\n",
    "t1 = (1,2,3,4,5)\n",
    "pos = 2\n",
    "\n",
    "rotated_tuple = rotate_right(t1,pos)\n",
    "print(rotated_tuple)"
   ]
  },
  {
   "cell_type": "markdown",
   "id": "d1587a37-018a-4f07-badf-ec6b68aa526d",
   "metadata": {},
   "source": [
    "41. Create a tuple of the first 5 Fibonacci numbers."
   ]
  },
  {
   "cell_type": "code",
   "execution_count": 139,
   "id": "fae7ef30-1abb-410a-816e-c0fe045d31c4",
   "metadata": {},
   "outputs": [
    {
     "name": "stdout",
     "output_type": "stream",
     "text": [
      "(0, 1, 1, 2, 3)\n"
     ]
    }
   ],
   "source": [
    "def fibo(num):\n",
    "    t1 = []\n",
    "\n",
    "    for i in range(num):\n",
    "        if i<2:\n",
    "            t1.append(i)\n",
    "        else:\n",
    "            t1.append(t1[i-1] + t1[i-2])\n",
    "        \n",
    "    return tuple(t1)\n",
    "        \n",
    "result = fibo(5)\n",
    "print(result)"
   ]
  },
  {
   "cell_type": "markdown",
   "id": "42be9150-f7fb-4fd1-a793-1a34fc86a5ae",
   "metadata": {},
   "source": [
    "42. Create a tuple from user input."
   ]
  },
  {
   "cell_type": "raw",
   "id": "3e620e34-244f-440a-a45f-0ffb65879a27",
   "metadata": {},
   "source": [
    "\n",
    "user_input_str = input(\"Enter elements separated by spaces: \")\n",
    "user_input_list = user_input_str.split()\n",
    "user_tuple = tuple(map(int, user_input_list))\n",
    "print(\"User input as tuple:\", user_tuple)"
   ]
  },
  {
   "cell_type": "markdown",
   "id": "ad8762db-ef7a-4535-932d-5ee833bb518f",
   "metadata": {},
   "source": [
    "43. Swap two elements in a tuple"
   ]
  },
  {
   "cell_type": "code",
   "execution_count": 140,
   "id": "b46710f8-179b-420f-ae53-dbe1fb89512f",
   "metadata": {},
   "outputs": [
    {
     "name": "stdout",
     "output_type": "stream",
     "text": [
      "(1, 2, 4, 3, 5)\n"
     ]
    }
   ],
   "source": [
    "def swap_element(t,index1,index2):\n",
    "    temp = list(t)\n",
    "    temp[index1],temp[index2] = temp[index2],temp[index1]\n",
    "    swapped = tuple(temp)\n",
    "    \n",
    "    return swapped\n",
    "\n",
    "t1 = (1,2,3,4,5)\n",
    "index1 = 2\n",
    "index2 = 3\n",
    "\n",
    "result = swap_element(t1,index1,index2)\n",
    "print(result)\n"
   ]
  },
  {
   "cell_type": "markdown",
   "id": "625d01f4-d87c-4cf8-862d-0c8256fde9e8",
   "metadata": {},
   "source": [
    "44. Reverse the elements of a tuple."
   ]
  },
  {
   "cell_type": "code",
   "execution_count": 141,
   "id": "3052f92b-d800-46ae-9731-16aa3fcaa60c",
   "metadata": {},
   "outputs": [
    {
     "data": {
      "text/plain": [
       "(6, 5, 4, 3, 2, 1)"
      ]
     },
     "execution_count": 141,
     "metadata": {},
     "output_type": "execute_result"
    }
   ],
   "source": [
    "t1 = (1,2,3,4,5,6)\n",
    "t1[::-1]"
   ]
  },
  {
   "cell_type": "markdown",
   "id": "00a7983b-d219-4554-b27c-c65522c832f5",
   "metadata": {},
   "source": [
    "45. Create a tuple of the first `n` powers of 2."
   ]
  },
  {
   "cell_type": "code",
   "execution_count": 142,
   "id": "9b6cfec8-3ba6-4c44-90ef-489457304b6a",
   "metadata": {},
   "outputs": [
    {
     "name": "stdout",
     "output_type": "stream",
     "text": [
      "(1, 2, 4, 8, 16)\n"
     ]
    }
   ],
   "source": [
    "def power_of_two(n):\n",
    "    return tuple(2**i for i in range(n))\n",
    "\n",
    "n = 5\n",
    "\n",
    "power = power_of_two(5)\n",
    "print(power)"
   ]
  },
  {
   "cell_type": "markdown",
   "id": "fec9f53a-9a35-4e6d-8570-392f54345a79",
   "metadata": {},
   "source": [
    "46. Find the longest string in a tuple of strings."
   ]
  },
  {
   "cell_type": "code",
   "execution_count": 143,
   "id": "6de02122-4229-4954-91bf-8f88bee10989",
   "metadata": {},
   "outputs": [
    {
     "name": "stdout",
     "output_type": "stream",
     "text": [
      "Suraj\n"
     ]
    }
   ],
   "source": [
    "t1 = (\"My\",\"Name\",\"Suraj\")\n",
    "max_str = max(t1, key=len)\n",
    "print(max_str)"
   ]
  },
  {
   "cell_type": "markdown",
   "id": "9d456bbc-0b4d-482b-aa5b-3dffd308c5c0",
   "metadata": {},
   "source": [
    "47. Find the shortest string in a tuple of strings."
   ]
  },
  {
   "cell_type": "code",
   "execution_count": 144,
   "id": "ecfe0379-4040-49b6-9c14-1f332de391c5",
   "metadata": {},
   "outputs": [
    {
     "name": "stdout",
     "output_type": "stream",
     "text": [
      "My\n"
     ]
    }
   ],
   "source": [
    "t1 = (\"My\",\"Name\",\"Suraj\")\n",
    "max_str = min(t1, key=len)\n",
    "print(max_str)"
   ]
  },
  {
   "cell_type": "markdown",
   "id": "a75c1145-ae35-4c48-89d0-b0e734b39c10",
   "metadata": {},
   "source": [
    "48. Create a tuple of the first `n` triangular numbers."
   ]
  },
  {
   "cell_type": "code",
   "execution_count": 145,
   "id": "b16bb592-894e-4aef-88ed-5a040386e972",
   "metadata": {},
   "outputs": [
    {
     "name": "stdout",
     "output_type": "stream",
     "text": [
      "(0, 1, 3, 6, 10)\n"
     ]
    }
   ],
   "source": [
    "def triangular_number(n):\n",
    "    return tuple((i*(i+1))//2 for i in range(n))\n",
    "\n",
    "n = 5\n",
    "tri = triangular_number(n)\n",
    "print(tri)"
   ]
  },
  {
   "cell_type": "markdown",
   "id": "be10a180-ad9d-45db-af1c-735daa0bef70",
   "metadata": {},
   "source": [
    "49. Check if a tuple contains another tuple as a subsequence."
   ]
  },
  {
   "cell_type": "code",
   "execution_count": 146,
   "id": "b9f6bc04-bcb5-485f-8d69-09ff37f07ea9",
   "metadata": {},
   "outputs": [
    {
     "name": "stdout",
     "output_type": "stream",
     "text": [
      "Tuple2 is a subsequence of Tuple1\n"
     ]
    }
   ],
   "source": [
    "def is_subsequence(subseq, tup):\n",
    "    len_subseq = len(subseq)\n",
    "    len_tup = len(tup)\n",
    "\n",
    "    for i in range(len_tup - len_subseq + 1):\n",
    "        if tup[i:i + len_subseq] == subseq:\n",
    "            return True\n",
    "\n",
    "    return False\n",
    "\n",
    "# Example usage:\n",
    "tuple1 = (1, 2, 3, 4, 5, 6, 7)\n",
    "tuple2 = (3,4,5)\n",
    "\n",
    "result = is_subsequence(tuple2, tuple1)\n",
    "\n",
    "if result:\n",
    "    print(\"Tuple2 is a subsequence of Tuple1\")\n",
    "else:\n",
    "    print(\"Tuple2 is not a subsequence of Tuple1\")\n"
   ]
  },
  {
   "cell_type": "code",
   "execution_count": 147,
   "id": "1a311e31-5a74-4a0f-b1d7-18a413244fcc",
   "metadata": {},
   "outputs": [
    {
     "data": {
      "text/plain": [
       "True"
      ]
     },
     "execution_count": 147,
     "metadata": {},
     "output_type": "execute_result"
    }
   ],
   "source": [
    "t1 = (1,2,3,4,5)\n",
    "t2 = (3,4)\n",
    "set(t2).issubset(t1)"
   ]
  },
  {
   "cell_type": "markdown",
   "id": "9907ec82-d6f3-413a-b681-8a8c03f6b5b0",
   "metadata": {},
   "source": [
    "50. Create a tuple of alternating 1s and 0s of length `n`."
   ]
  },
  {
   "cell_type": "code",
   "execution_count": 148,
   "id": "d6545ffb-fb29-48b4-bfa1-a0c221dbbbcc",
   "metadata": {},
   "outputs": [
    {
     "name": "stdout",
     "output_type": "stream",
     "text": [
      "(1, 0, 1, 0, 1, 0)\n"
     ]
    }
   ],
   "source": [
    "n = 6\n",
    "alter = tuple( 1 if i%2==0 else 0 for i in range(n))\n",
    "print(alter)"
   ]
  },
  {
   "cell_type": "markdown",
   "id": "6ee9aaeb-ddff-4690-b471-ebfeb68fc8f6",
   "metadata": {},
   "source": [
    "TOPIC: Set Based Assignment Problem"
   ]
  },
  {
   "cell_type": "markdown",
   "id": "1067fde6-7c79-4f01-a8db-b8b58625d8cc",
   "metadata": {},
   "source": [
    "1. Create a set with integers from 1 to 5.\n"
   ]
  },
  {
   "cell_type": "code",
   "execution_count": 149,
   "id": "e11880d5-cb29-4a44-92c0-b64e605efda9",
   "metadata": {},
   "outputs": [
    {
     "name": "stdout",
     "output_type": "stream",
     "text": [
      "{1, 2, 3, 4, 5}\n"
     ]
    }
   ],
   "source": [
    "s = {1,2,3,4,5}\n",
    "print(s)"
   ]
  },
  {
   "cell_type": "markdown",
   "id": "3cc79bf3-095f-4d6e-a002-cfc65a24a35f",
   "metadata": {},
   "source": [
    "2. Add an element to a set.\n"
   ]
  },
  {
   "cell_type": "code",
   "execution_count": 150,
   "id": "4bc31c0d-9c60-454d-92b1-29822496150e",
   "metadata": {},
   "outputs": [
    {
     "name": "stdout",
     "output_type": "stream",
     "text": [
      "{1, 2, 3, 4, 5, 6}\n"
     ]
    }
   ],
   "source": [
    "s = {1,2,3,4,5}\n",
    "s.add(6)\n",
    "print(s)"
   ]
  },
  {
   "cell_type": "markdown",
   "id": "1a842e06-d980-4c53-90d9-69a09dc10715",
   "metadata": {},
   "source": [
    "3. Remove an element from a set."
   ]
  },
  {
   "cell_type": "code",
   "execution_count": 151,
   "id": "ecea5ad9-7f1e-4d2e-bbe1-11c33bd134cb",
   "metadata": {},
   "outputs": [
    {
     "name": "stdout",
     "output_type": "stream",
     "text": [
      "{1, 2, 3, 4, 5}\n"
     ]
    }
   ],
   "source": [
    "s = {1,2,3,4,5,6}\n",
    "s.remove(6)\n",
    "print(s)"
   ]
  },
  {
   "cell_type": "markdown",
   "id": "9805309c-ca78-4819-9c07-9cfe26fcb638",
   "metadata": {},
   "source": [
    "4. Check if an element exists in a set.\n"
   ]
  },
  {
   "cell_type": "code",
   "execution_count": 152,
   "id": "dac67675-bf45-4022-8f9e-b38d87c1c08d",
   "metadata": {},
   "outputs": [
    {
     "name": "stdout",
     "output_type": "stream",
     "text": [
      "Element Exist\n"
     ]
    }
   ],
   "source": [
    "s = {1,2,3,4,5}\n",
    "i = 3\n",
    "if i in s:\n",
    "    print(\"Element Exist\")\n",
    "else:\n",
    "    print(\"Element does not exist\")"
   ]
  },
  {
   "cell_type": "markdown",
   "id": "88662076-5df2-497a-8fe9-9839320a6f54",
   "metadata": {},
   "source": [
    "5. Find the length of a set without using the `len()` function."
   ]
  },
  {
   "cell_type": "code",
   "execution_count": 153,
   "id": "f2382809-c2ff-4695-b8bb-557bc9572812",
   "metadata": {},
   "outputs": [
    {
     "name": "stdout",
     "output_type": "stream",
     "text": [
      "5\n"
     ]
    }
   ],
   "source": [
    "s = {1,2,3,4,5}\n",
    "count = 0\n",
    "for i in s:\n",
    "    count += 1\n",
    "print(count)"
   ]
  },
  {
   "cell_type": "markdown",
   "id": "e49513c9-7233-425c-895c-1911eac9b515",
   "metadata": {},
   "source": [
    "6. Clear all elements from a set.\n"
   ]
  },
  {
   "cell_type": "code",
   "execution_count": 154,
   "id": "e9fc432c-0147-48c7-b6d7-5b52c8dc50fa",
   "metadata": {},
   "outputs": [
    {
     "name": "stdout",
     "output_type": "stream",
     "text": [
      "set()\n"
     ]
    }
   ],
   "source": [
    "s = {1,2,3,4,5}\n",
    "s.clear()\n",
    "print(s)"
   ]
  },
  {
   "cell_type": "markdown",
   "id": "0438d89f-62b6-4bf9-a3c5-3b805ccddfe0",
   "metadata": {},
   "source": [
    "7. Create a set of even numbers from 1 to 10."
   ]
  },
  {
   "cell_type": "code",
   "execution_count": 155,
   "id": "a0306f74-9abd-4991-bb5a-732400e96123",
   "metadata": {},
   "outputs": [
    {
     "name": "stdout",
     "output_type": "stream",
     "text": [
      "{}\n"
     ]
    }
   ],
   "source": [
    "s = {1,2,3,4,5,6,7,8,9,10}\n",
    "s1 = {}\n",
    "for i in s1:\n",
    "    if i%2==0:\n",
    "        s1 += {i,}\n",
    "print(s1)"
   ]
  },
  {
   "cell_type": "code",
   "execution_count": 156,
   "id": "65d67f97-1acb-4d1a-a1cc-2398bfd318d1",
   "metadata": {},
   "outputs": [
    {
     "name": "stdout",
     "output_type": "stream",
     "text": [
      "{2, 4, 6, 8, 10}\n"
     ]
    }
   ],
   "source": [
    "s = []\n",
    "for i in range(1,11):\n",
    "    if i%2 == 0:\n",
    "        s.append(i)\n",
    "print(set(s))"
   ]
  },
  {
   "cell_type": "markdown",
   "id": "3dd6eb69-8763-45dd-9448-16f4a03c9a30",
   "metadata": {},
   "source": [
    "8. Create a set of odd numbers from 1 to 10."
   ]
  },
  {
   "cell_type": "code",
   "execution_count": 157,
   "id": "418053b4-3ac2-41fc-819f-8f5ab89b3218",
   "metadata": {},
   "outputs": [
    {
     "name": "stdout",
     "output_type": "stream",
     "text": [
      "{1, 3, 5, 7, 9}\n"
     ]
    }
   ],
   "source": [
    "s = []\n",
    "for i in range(1,10):\n",
    "    if i%2 != 0:\n",
    "        s.append(i)\n",
    "print(set(s))"
   ]
  },
  {
   "cell_type": "markdown",
   "id": "9ab099f8-91a0-4cc6-8d62-17c3083c869a",
   "metadata": {},
   "source": [
    "9. Find the union of two sets."
   ]
  },
  {
   "cell_type": "code",
   "execution_count": 158,
   "id": "e1e50f28-28f8-46e1-8cc9-3efa4c14f1bf",
   "metadata": {},
   "outputs": [
    {
     "data": {
      "text/plain": [
       "{1, 2, 3, 4, 5, 6}"
      ]
     },
     "execution_count": 158,
     "metadata": {},
     "output_type": "execute_result"
    }
   ],
   "source": [
    "s1 = {1,2,3}\n",
    "s2 = {4,5,6}\n",
    "\n",
    "s1.union(s2)"
   ]
  },
  {
   "cell_type": "markdown",
   "id": "0dcaff9c-abe5-4a22-a741-3c8d6f4eb42e",
   "metadata": {},
   "source": [
    "10. Find the intersection of two sets.\n"
   ]
  },
  {
   "cell_type": "code",
   "execution_count": 159,
   "id": "c3d40a3b-c4c2-493e-a789-ccfe0e700b02",
   "metadata": {},
   "outputs": [
    {
     "data": {
      "text/plain": [
       "{3, 4, 5, 6}"
      ]
     },
     "execution_count": 159,
     "metadata": {},
     "output_type": "execute_result"
    }
   ],
   "source": [
    "s1 = {1,2,3,4,5,6}\n",
    "s2 = {3,4,5,6,7,8}\n",
    "\n",
    "s1.intersection(s2)"
   ]
  },
  {
   "cell_type": "markdown",
   "id": "5a1bcbd4-3e29-4e53-aa23-aede6b4c2261",
   "metadata": {},
   "source": [
    "11. Find the difference between two sets.\n"
   ]
  },
  {
   "cell_type": "code",
   "execution_count": 160,
   "id": "edf6a390-7512-4bcd-860b-09be5948181a",
   "metadata": {},
   "outputs": [
    {
     "data": {
      "text/plain": [
       "{1, 2}"
      ]
     },
     "execution_count": 160,
     "metadata": {},
     "output_type": "execute_result"
    }
   ],
   "source": [
    "s1 = {1,2,3,4,5,6}\n",
    "s2 = {3,4,5,6,7,8}\n",
    "\n",
    "s1.difference(s2)"
   ]
  },
  {
   "cell_type": "markdown",
   "id": "ce0d9106-0b64-4033-82bd-8422aa17d3c4",
   "metadata": {},
   "source": [
    "12. Check if a set is a subset of another set.\n"
   ]
  },
  {
   "cell_type": "code",
   "execution_count": 161,
   "id": "c53a47fb-259f-4222-85d0-08dc5f129d16",
   "metadata": {},
   "outputs": [
    {
     "data": {
      "text/plain": [
       "True"
      ]
     },
     "execution_count": 161,
     "metadata": {},
     "output_type": "execute_result"
    }
   ],
   "source": [
    "s1 = {1,2,3,4,5,6,7}\n",
    "s2 = {3,4,5}\n",
    "\n",
    "s2.issubset(s1)"
   ]
  },
  {
   "cell_type": "markdown",
   "id": "5558f3d2-e466-462a-bb51-329d25356a85",
   "metadata": {},
   "source": [
    "13. Check if a set is a superset of another set.\n"
   ]
  },
  {
   "cell_type": "code",
   "execution_count": 162,
   "id": "49641935-be2e-4c5e-a18d-d703db438530",
   "metadata": {},
   "outputs": [
    {
     "data": {
      "text/plain": [
       "True"
      ]
     },
     "execution_count": 162,
     "metadata": {},
     "output_type": "execute_result"
    }
   ],
   "source": [
    "s1 = {1,2,3,4,5,6,7}\n",
    "s2 = {3,4,5}\n",
    "\n",
    "s1.issuperset(s2)"
   ]
  },
  {
   "cell_type": "markdown",
   "id": "0ab82361-5ea5-4c16-90d4-a327f3d42be7",
   "metadata": {},
   "source": [
    "14. Create a set from a list.\n"
   ]
  },
  {
   "cell_type": "code",
   "execution_count": 163,
   "id": "28175bd3-bb4b-410c-ba82-5dbc3280bf0c",
   "metadata": {},
   "outputs": [
    {
     "name": "stdout",
     "output_type": "stream",
     "text": [
      "{1, 2, 3, 4, 5}\n"
     ]
    }
   ],
   "source": [
    "l1 = [1,2,3,4,5]\n",
    "print(set(l1))"
   ]
  },
  {
   "cell_type": "markdown",
   "id": "de7c96c8-88ca-4f08-8222-f14ab784a3e3",
   "metadata": {},
   "source": [
    "15. Convert a set to a list.\n"
   ]
  },
  {
   "cell_type": "code",
   "execution_count": 164,
   "id": "5f52f1e8-c4b3-4d57-8028-9bdc4f32fe5f",
   "metadata": {},
   "outputs": [
    {
     "name": "stdout",
     "output_type": "stream",
     "text": [
      "[1, 2, 3, 4, 5]\n"
     ]
    }
   ],
   "source": [
    "s = {1,2,3,4,5}\n",
    "print(list(s))"
   ]
  },
  {
   "cell_type": "markdown",
   "id": "cf43564d-b401-4588-97ca-6790239cb285",
   "metadata": {},
   "source": [
    "16. Remove a random element from a set."
   ]
  },
  {
   "cell_type": "code",
   "execution_count": 165,
   "id": "af6321bc-1741-4218-a7a6-ecad8a51bd9d",
   "metadata": {},
   "outputs": [
    {
     "name": "stdout",
     "output_type": "stream",
     "text": [
      "{1, 2, 4, 5}\n"
     ]
    }
   ],
   "source": [
    "s = {1,2,3,4,5}\n",
    "s.remove(3)\n",
    "print(s)"
   ]
  },
  {
   "cell_type": "markdown",
   "id": "198b397f-8efa-467b-b84a-6efd726c5dba",
   "metadata": {},
   "source": [
    "17. Pop an element from a set.\n"
   ]
  },
  {
   "cell_type": "code",
   "execution_count": 166,
   "id": "3f0987e2-1be6-452a-a276-b505512ee50b",
   "metadata": {},
   "outputs": [
    {
     "name": "stdout",
     "output_type": "stream",
     "text": [
      "{2, 3, 4, 5}\n"
     ]
    }
   ],
   "source": [
    "s = {1,2,3,4,5}\n",
    "s.pop()\n",
    "print(s)"
   ]
  },
  {
   "cell_type": "markdown",
   "id": "f6ab5442-ef06-48ee-bd50-4f20316edb28",
   "metadata": {},
   "source": [
    "18. Check if two sets have no elements in common.\n"
   ]
  },
  {
   "cell_type": "code",
   "execution_count": 167,
   "id": "dca5042e-0f4b-44fc-a6fa-0080b15fbf12",
   "metadata": {},
   "outputs": [
    {
     "name": "stdout",
     "output_type": "stream",
     "text": [
      "Both have common element\n"
     ]
    }
   ],
   "source": [
    "s1 = {1,2,3,4,5,6,7}\n",
    "s2 = {3,4,5}\n",
    "\n",
    "if s1.intersection(s2):\n",
    "    print(\"Both have common element\")\n",
    "else:\n",
    "    print(\"Both does not have any common element\")"
   ]
  },
  {
   "cell_type": "markdown",
   "id": "14efbe31-8110-4e69-a69b-b78083257bcb",
   "metadata": {},
   "source": [
    "19. Find the symmetric difference between two sets"
   ]
  },
  {
   "cell_type": "code",
   "execution_count": 168,
   "id": "639e268e-42d2-4440-8216-71443b27f757",
   "metadata": {},
   "outputs": [
    {
     "data": {
      "text/plain": [
       "{1, 2, 6, 7, 8, 9, 10}"
      ]
     },
     "execution_count": 168,
     "metadata": {},
     "output_type": "execute_result"
    }
   ],
   "source": [
    "s1 = {1,2,3,4,5,6,7}\n",
    "s2 = {3,4,5,8,9,10}\n",
    "\n",
    "s1.symmetric_difference(s2)"
   ]
  },
  {
   "cell_type": "markdown",
   "id": "e18120ae-2efd-4741-b681-b71d4c4175d5",
   "metadata": {},
   "source": [
    "20. Update a set with elements from another set."
   ]
  },
  {
   "cell_type": "code",
   "execution_count": 169,
   "id": "534bb379-a81e-4b15-ae6c-103fe7e6e286",
   "metadata": {},
   "outputs": [
    {
     "name": "stdout",
     "output_type": "stream",
     "text": [
      "{1, 2, 3, 4, 5, 6, 7}\n"
     ]
    }
   ],
   "source": [
    "s1 = {1,2,3,4,5}\n",
    "s2 = {6,7}\n",
    "\n",
    "s1.update(s2)\n",
    "print(s1)"
   ]
  },
  {
   "cell_type": "markdown",
   "id": "35a578ba-47ec-4669-8dbf-c8a730c205d8",
   "metadata": {},
   "source": [
    "21. Create a set of the first 5 prime numbers.\n"
   ]
  },
  {
   "cell_type": "raw",
   "id": "24513fb2-796f-4ed3-85a6-9661b36cf9e4",
   "metadata": {},
   "source": [
    "def primes(n):\n",
    "    s = []\n",
    "    num = 2\n",
    "    \n",
    "    while len(s)<n:\n",
    "        for i in range(2, int(num ** 0.5)+1):\n",
    "            if num %2 ==0:\n",
    "                is_prime = True\n",
    "                break\n",
    "        \n",
    "            if is_prime:\n",
    "                primes.append(s)\n",
    "            \n",
    "            num +=1\n",
    "            \n",
    "    return set(primes)\n",
    "\n",
    "first_five_primes = primes(5)\n",
    "print(first_five_primes)        "
   ]
  },
  {
   "cell_type": "markdown",
   "id": "ecbb014f-804a-4bd4-bf1a-a849a290c4e6",
   "metadata": {},
   "source": [
    "22. Check if two sets are identical."
   ]
  },
  {
   "cell_type": "code",
   "execution_count": 170,
   "id": "1f0dd40a-59d3-49e2-86d3-fefed04d9683",
   "metadata": {},
   "outputs": [
    {
     "name": "stdout",
     "output_type": "stream",
     "text": [
      "Two sets are not identical\n"
     ]
    }
   ],
   "source": [
    "s1 = {1,2,3,4}\n",
    "s2 = {4,5}\n",
    "\n",
    "if s1 == s2:\n",
    "    print(\"Two sets are identical\")\n",
    "else:\n",
    "    print(\"Two sets are not identical\")"
   ]
  },
  {
   "cell_type": "markdown",
   "id": "1ef1dc53-847b-4b9b-bb54-fca82987bc21",
   "metadata": {},
   "source": [
    "23. Create a frozen set."
   ]
  },
  {
   "cell_type": "code",
   "execution_count": 171,
   "id": "b489d2ea-ffb1-4a40-b295-e92fe77feb0d",
   "metadata": {},
   "outputs": [
    {
     "name": "stdout",
     "output_type": "stream",
     "text": [
      "frozenset({0, 1, 2})\n"
     ]
    }
   ],
   "source": [
    "s = frozenset((0,1,1,0,2,1,0,1,2,1,0,0))\n",
    "print(s)"
   ]
  },
  {
   "cell_type": "markdown",
   "id": "4fac2f1d-dbce-4d80-ac4e-ac2b471d1e2f",
   "metadata": {},
   "source": [
    "24. Check if a set is disjoint with another set.\n"
   ]
  },
  {
   "cell_type": "code",
   "execution_count": 172,
   "id": "4234355e-1dec-4f99-81e5-7c9bd0372123",
   "metadata": {},
   "outputs": [
    {
     "data": {
      "text/plain": [
       "False"
      ]
     },
     "execution_count": 172,
     "metadata": {},
     "output_type": "execute_result"
    }
   ],
   "source": [
    "s1 = {1,2,3,4,5}\n",
    "s2 = {1,4,5,6,7}\n",
    "\n",
    "s1.isdisjoint(s2)"
   ]
  },
  {
   "cell_type": "markdown",
   "id": "218086b9-87ff-4dc1-bcfa-285c07497fe9",
   "metadata": {},
   "source": [
    "25. Create a set of squares of numbers from 1 to 5.\n"
   ]
  },
  {
   "cell_type": "code",
   "execution_count": 173,
   "id": "b5bc57e9-8e03-4360-8a54-4576a45fd978",
   "metadata": {},
   "outputs": [
    {
     "name": "stdout",
     "output_type": "stream",
     "text": [
      "{2, 4, 6, 8, 10}\n"
     ]
    }
   ],
   "source": [
    "result = (i * 2 for i in range(1,6))\n",
    "print(set(result))"
   ]
  },
  {
   "cell_type": "markdown",
   "id": "572934e6-5982-4977-9867-d65a0f290689",
   "metadata": {},
   "source": [
    "26. Filter out all even numbers from a set.\n"
   ]
  },
  {
   "cell_type": "code",
   "execution_count": 174,
   "id": "e5107f89-cab4-453c-b0be-e7848ca4c79f",
   "metadata": {},
   "outputs": [
    {
     "name": "stdout",
     "output_type": "stream",
     "text": [
      "{2, 4, 6, 8, 10}\n"
     ]
    }
   ],
   "source": [
    "s1 = {1,2,3,4,5,6,7,8,9,10}\n",
    "result = set(filter(lambda x : x%2 ==0,s1))\n",
    "print(result)      "
   ]
  },
  {
   "cell_type": "markdown",
   "id": "89ea2644-4094-40b3-ae1d-a52fbd5a81da",
   "metadata": {},
   "source": [
    "27. Multiply all elements in a set by 2.\n"
   ]
  },
  {
   "cell_type": "code",
   "execution_count": 175,
   "id": "36979a19-144a-480c-b458-d095dd800714",
   "metadata": {},
   "outputs": [
    {
     "name": "stdout",
     "output_type": "stream",
     "text": [
      "{2, 4, 6, 8, 10}\n"
     ]
    }
   ],
   "source": [
    "s1 = {1,2,3,4,5}\n",
    "result = (i*2 for i in s1)\n",
    "print(set(result))"
   ]
  },
  {
   "cell_type": "markdown",
   "id": "e07006e8-66a6-4e74-bc9b-835909ca5be2",
   "metadata": {},
   "source": [
    "28. Create a set of random numbers.\n"
   ]
  },
  {
   "cell_type": "code",
   "execution_count": 176,
   "id": "041d0a56-7657-4d54-ab18-74bd0018ada8",
   "metadata": {},
   "outputs": [
    {
     "name": "stdout",
     "output_type": "stream",
     "text": [
      "{35, 38, 43, 28, 29}\n"
     ]
    }
   ],
   "source": [
    "import random\n",
    "\n",
    "result = set(random.sample(range(1,50),5))\n",
    "print(result)"
   ]
  },
  {
   "cell_type": "markdown",
   "id": "a7c5c441-2e61-430a-9cc8-4c86eb7bd25d",
   "metadata": {},
   "source": [
    "29. Check if a set is empty.\n"
   ]
  },
  {
   "cell_type": "code",
   "execution_count": 177,
   "id": "23553e6d-3199-475c-ad4f-d26d54505e04",
   "metadata": {},
   "outputs": [
    {
     "name": "stdout",
     "output_type": "stream",
     "text": [
      "Set is not Empty\n"
     ]
    }
   ],
   "source": [
    "s = {1,2,3,4,5}\n",
    "\n",
    "if len(s) == 0:\n",
    "    print(\"Set is Empty\")\n",
    "else:\n",
    "    print(\"Set is not Empty\")"
   ]
  },
  {
   "cell_type": "markdown",
   "id": "4f58bcf9-9a88-4899-8f9b-56150213b5b0",
   "metadata": {},
   "source": [
    "30. Create a nested set (hint: use frozenset).\n"
   ]
  },
  {
   "cell_type": "code",
   "execution_count": 178,
   "id": "8b914b45-b28b-4c25-ae6d-607b5f86a47e",
   "metadata": {},
   "outputs": [
    {
     "name": "stdout",
     "output_type": "stream",
     "text": [
      "{frozenset({3, 4, 5}), frozenset({4, 5, 6}), frozenset({1, 2})}\n"
     ]
    }
   ],
   "source": [
    "s = {frozenset({1,2}),frozenset({3,4,5}),frozenset({4,5,6})}\n",
    "print(s)"
   ]
  },
  {
   "cell_type": "markdown",
   "id": "42611fe9-7a05-49ec-81d2-807b3b07df39",
   "metadata": {},
   "source": [
    "31. Remove an element from a set using the discard method."
   ]
  },
  {
   "cell_type": "code",
   "execution_count": 179,
   "id": "2d323533-fe9a-4da6-8933-fd2f392cbfba",
   "metadata": {},
   "outputs": [
    {
     "name": "stdout",
     "output_type": "stream",
     "text": [
      "{1, 2, 4, 5}\n"
     ]
    }
   ],
   "source": [
    "s = {1,2,3,4,5}\n",
    "s.discard(3)\n",
    "print(s)"
   ]
  },
  {
   "cell_type": "markdown",
   "id": "001ed003-41a4-4889-9022-29a050bcc843",
   "metadata": {},
   "source": [
    "32. Compare two sets.\n"
   ]
  },
  {
   "cell_type": "code",
   "execution_count": 180,
   "id": "bd7b2873-8b41-4696-b2a1-fdd95302cf7d",
   "metadata": {},
   "outputs": [
    {
     "data": {
      "text/plain": [
       "True"
      ]
     },
     "execution_count": 180,
     "metadata": {},
     "output_type": "execute_result"
    }
   ],
   "source": [
    "s1 = {1,2,3,4,5}\n",
    "s2 = {1,2,3,4,5}\n",
    "\n",
    "s1==s2"
   ]
  },
  {
   "cell_type": "markdown",
   "id": "375bbfc4-6f01-45c7-8e16-6e47de675525",
   "metadata": {},
   "source": [
    "33. Create a set from a string."
   ]
  },
  {
   "cell_type": "code",
   "execution_count": 181,
   "id": "148cadc4-9e33-46f0-a0f3-dfb2fb5ecce0",
   "metadata": {},
   "outputs": [
    {
     "name": "stdout",
     "output_type": "stream",
     "text": [
      "{'5', '3', '2', '1', '4'}\n"
     ]
    }
   ],
   "source": [
    "str1 = ['1','2','3','4','5']\n",
    "print(set(str1))"
   ]
  },
  {
   "cell_type": "markdown",
   "id": "c8adf387-54a8-4fad-82f9-15cae35d4368",
   "metadata": {},
   "source": [
    "34. Convert a set of strings to a set of integers"
   ]
  },
  {
   "cell_type": "code",
   "execution_count": 182,
   "id": "99acec8a-6e98-4830-9e81-0eebe89ee275",
   "metadata": {},
   "outputs": [
    {
     "name": "stdout",
     "output_type": "stream",
     "text": [
      "{1, 2, 3, 4, 5}\n"
     ]
    }
   ],
   "source": [
    "str1 = \"1,2,3,4,5\"\n",
    "result = str1.split(',')\n",
    "int_str = set(map(int, result))\n",
    "print(set(int_str))"
   ]
  },
  {
   "cell_type": "markdown",
   "id": "a3c8b70e-d156-4abd-9e5f-10912c7a7286",
   "metadata": {},
   "source": [
    "35. Convert a set of integers to a set of strings.\n"
   ]
  },
  {
   "cell_type": "raw",
   "id": "2ae39f0c-1cd6-421c-8037-9df20f7fed89",
   "metadata": {},
   "source": [
    "s1 = {1, 2, 3, 4, 5}\n",
    "result = {str(x) for x in s1}\n",
    "print(result)"
   ]
  },
  {
   "cell_type": "markdown",
   "id": "8020a1f4-a169-41c6-86a9-08f54b099959",
   "metadata": {},
   "source": [
    "36. Create a set from a tuple."
   ]
  },
  {
   "cell_type": "code",
   "execution_count": 184,
   "id": "4512ab87-5caa-43cd-a81a-ecf1a44e45a0",
   "metadata": {},
   "outputs": [
    {
     "name": "stdout",
     "output_type": "stream",
     "text": [
      "{1, 2, 3.14, 'suraj'}\n"
     ]
    }
   ],
   "source": [
    "t = (1,2,\"suraj\",3.14,True)\n",
    "print(set(t))"
   ]
  },
  {
   "cell_type": "markdown",
   "id": "3a1e1c16-a1f4-4659-bec6-da743747efdd",
   "metadata": {},
   "source": [
    "37. Convert a set to a tuple."
   ]
  },
  {
   "cell_type": "code",
   "execution_count": 185,
   "id": "83cb27fa-0b19-420b-9fae-b9e38edbd890",
   "metadata": {},
   "outputs": [
    {
     "name": "stdout",
     "output_type": "stream",
     "text": [
      "(1, 2, 3, 4, 5)\n"
     ]
    }
   ],
   "source": [
    "s = {1, 2, 3, 4, 5}\n",
    "print(tuple(s))"
   ]
  },
  {
   "cell_type": "markdown",
   "id": "724c6e39-7f89-4da4-9c45-a8a35e42c7d2",
   "metadata": {},
   "source": [
    "38. Find the maximum value in a set."
   ]
  },
  {
   "cell_type": "code",
   "execution_count": 186,
   "id": "2acb8073-1e92-40e4-aefc-facbf75e8c72",
   "metadata": {},
   "outputs": [
    {
     "name": "stdout",
     "output_type": "stream",
     "text": [
      "8\n"
     ]
    }
   ],
   "source": [
    "s = {1,5,2,6,4,8}\n",
    "result = list(s)\n",
    "print(max(result))"
   ]
  },
  {
   "cell_type": "markdown",
   "id": "50ed528d-6b97-464b-a23c-1233458dc27c",
   "metadata": {},
   "source": [
    "39. Find the minimum value in a set.\n"
   ]
  },
  {
   "cell_type": "code",
   "execution_count": 187,
   "id": "2cd15abe-a320-43e3-88d6-e25d0c72f4ba",
   "metadata": {},
   "outputs": [
    {
     "name": "stdout",
     "output_type": "stream",
     "text": [
      "1\n"
     ]
    }
   ],
   "source": [
    "s = {1,5,2,6,4,8}\n",
    "result = list(s)\n",
    "print(min(result))"
   ]
  },
  {
   "cell_type": "markdown",
   "id": "39f7ccd3-794e-4707-86ca-a655b8b85e00",
   "metadata": {},
   "source": [
    "40. Create a set from user input."
   ]
  },
  {
   "cell_type": "code",
   "execution_count": 189,
   "id": "dc5c1f9f-3fb8-456e-900f-26e2f9bdf390",
   "metadata": {},
   "outputs": [
    {
     "name": "stdin",
     "output_type": "stream",
     "text": [
      "Enter a set of elements separated by commas:  My Suraj 3.14 True\n"
     ]
    },
    {
     "name": "stdout",
     "output_type": "stream",
     "text": [
      "{'My Suraj 3.14 True'}\n"
     ]
    }
   ],
   "source": [
    "user_input_str = input(\"Enter a set of elements separated by commas: \")\n",
    "elements_list = user_input_str.split(',')\n",
    "user_set = set(elements_list)\n",
    "print(user_set)"
   ]
  },
  {
   "cell_type": "markdown",
   "id": "936e717f-e421-4202-ac39-044366faaaf7",
   "metadata": {},
   "source": [
    "41. Check if the intersection of two sets is empty."
   ]
  },
  {
   "cell_type": "code",
   "execution_count": 190,
   "id": "963f30fb-6998-4021-8ed3-5e5d66a3cf19",
   "metadata": {},
   "outputs": [
    {
     "name": "stdout",
     "output_type": "stream",
     "text": [
      "Intersection of two set is Empty\n"
     ]
    }
   ],
   "source": [
    "s1 = {1,2,3,4,5}\n",
    "s2 = {6,7,8,9,10}\n",
    "\n",
    "if not s1.intersection(s2) :\n",
    "    print(\"Intersection of two set is Empty\")\n",
    "else:\n",
    "    print(\"There is intersection\")"
   ]
  },
  {
   "cell_type": "markdown",
   "id": "e7e93622-a0d5-419a-a4e0-606a1bbe4834",
   "metadata": {},
   "source": [
    "42. Create a set of the first 5 Fibonacci numbers.\n"
   ]
  },
  {
   "cell_type": "code",
   "execution_count": 191,
   "id": "f545e48c-4724-43b6-ac42-e29c5cc2130f",
   "metadata": {},
   "outputs": [
    {
     "name": "stdout",
     "output_type": "stream",
     "text": [
      "{0, 1, 2, 3}\n"
     ]
    }
   ],
   "source": [
    "def fibo(num):\n",
    "    t1 = []\n",
    "\n",
    "    for i in range(num):\n",
    "        if i<2:\n",
    "            t1.append(i)\n",
    "        else:\n",
    "            t1.append(t1[i-1] + t1[i-2])\n",
    "        \n",
    "    return set(t1)\n",
    "        \n",
    "result = fibo(5)\n",
    "print(result)"
   ]
  },
  {
   "cell_type": "markdown",
   "id": "633674ff-4af8-4a9e-a3e1-35c18e375cb6",
   "metadata": {},
   "source": [
    "43. Remove duplicates from a list using sets"
   ]
  },
  {
   "cell_type": "code",
   "execution_count": 192,
   "id": "291c58ea-02f0-4394-bf36-524919c4b835",
   "metadata": {},
   "outputs": [
    {
     "name": "stdout",
     "output_type": "stream",
     "text": [
      "{1, 2, 3, 4, 5, 6, 7}\n"
     ]
    }
   ],
   "source": [
    "l1 = [1,1,2,3,3,4,5,6,6,7]\n",
    "result = set(l1)\n",
    "print(result)"
   ]
  },
  {
   "cell_type": "markdown",
   "id": "0fd028c1-55c6-455c-a235-899bc970343f",
   "metadata": {},
   "source": [
    "44. Check if two sets have the same elements, regardless of their count.\n"
   ]
  },
  {
   "cell_type": "code",
   "execution_count": 193,
   "id": "52ba1270-fcad-47df-80c0-1ea11aa0dd53",
   "metadata": {},
   "outputs": [
    {
     "name": "stdout",
     "output_type": "stream",
     "text": [
      "Both does not have same element\n"
     ]
    }
   ],
   "source": [
    "s1 = {1,2,3,4,5,6}\n",
    "s2 = {1,5,4,2,4,3}\n",
    "\n",
    "if s1 == s2:\n",
    "    print(\"Both have same element\")\n",
    "else:\n",
    "    print(\"Both does not have same element\")"
   ]
  },
  {
   "cell_type": "markdown",
   "id": "02669a27-760b-4218-8ffd-2c81b25e44a7",
   "metadata": {},
   "source": [
    "45. Create a set of the first `n` powers of 2.\n"
   ]
  },
  {
   "cell_type": "code",
   "execution_count": 194,
   "id": "ba8082df-ff1c-4c45-921f-a540f7a422ac",
   "metadata": {},
   "outputs": [
    {
     "name": "stdout",
     "output_type": "stream",
     "text": [
      "{0, 1, 4, 9, 16}\n"
     ]
    }
   ],
   "source": [
    "result = (i**2 for i in range(5))\n",
    "print(set(result))"
   ]
  },
  {
   "cell_type": "markdown",
   "id": "44deb844-27b7-4745-8948-ae4117f24941",
   "metadata": {},
   "source": [
    "46. Find the common elements between a set and a list.\n"
   ]
  },
  {
   "cell_type": "code",
   "execution_count": 195,
   "id": "b9e1c787-67b5-4f8e-a9c2-ab7854c0f15c",
   "metadata": {},
   "outputs": [
    {
     "name": "stdout",
     "output_type": "stream",
     "text": [
      "{5}\n"
     ]
    }
   ],
   "source": [
    "l1 = [1,2,3,4,5]\n",
    "s = {6,7,8,9,5}\n",
    "\n",
    "common = []\n",
    "\n",
    "list_s = list(s)\n",
    "for i in l1:\n",
    "    if i in s:\n",
    "        common.append(i)\n",
    "    \n",
    "print(set(common))\n",
    "        "
   ]
  },
  {
   "cell_type": "markdown",
   "id": "d95f5b84-c248-46f0-87eb-875ae51cd947",
   "metadata": {},
   "source": [
    "47. Create a set of the first `n` triangular numbers."
   ]
  },
  {
   "cell_type": "code",
   "execution_count": 196,
   "id": "875d54e9-00f4-4410-b057-75240c611477",
   "metadata": {},
   "outputs": [
    {
     "name": "stdout",
     "output_type": "stream",
     "text": [
      "{0, 1, 3, 6, 10}\n"
     ]
    }
   ],
   "source": [
    "def triangular_set(n):\n",
    "    return set((i*(i+1))//2 for i in range(n))\n",
    "\n",
    "n = 5\n",
    "tri = triangular_set(n)\n",
    "print(tri)"
   ]
  },
  {
   "cell_type": "markdown",
   "id": "1ce299bc-24ed-4f92-a9b0-1a731ad1a341",
   "metadata": {},
   "source": [
    "48. Check if a set contains another set as a subset.\n"
   ]
  },
  {
   "cell_type": "code",
   "execution_count": 197,
   "id": "0a0d9261-7190-4943-a218-49022b4ee678",
   "metadata": {},
   "outputs": [
    {
     "name": "stdout",
     "output_type": "stream",
     "text": [
      "set2 is a subset of set1\n"
     ]
    }
   ],
   "source": [
    "set1 = {1, 2, 3, 4, 5}\n",
    "set2 = {2, 3}\n",
    "\n",
    "if set2.issubset(set1):\n",
    "    print(\"set2 is a subset of set1\")\n",
    "else:\n",
    "    print(\"set2 is not a subset of set1\")\n"
   ]
  },
  {
   "cell_type": "markdown",
   "id": "1c0d8ea9-9a48-43ab-ad4d-9950be97b4a4",
   "metadata": {},
   "source": [
    "49. Create a set of alternating 1s and 0s of length `n`.\n"
   ]
  },
  {
   "cell_type": "code",
   "execution_count": 198,
   "id": "86b8a7e0-e446-4619-bdc1-302755d7d2f1",
   "metadata": {},
   "outputs": [
    {
     "name": "stdout",
     "output_type": "stream",
     "text": [
      "{0, 1}\n"
     ]
    }
   ],
   "source": [
    "n = 6\n",
    "result = (1 if i%2==0 else 0 for i in range(n))\n",
    "print(set(result))"
   ]
  },
  {
   "cell_type": "markdown",
   "id": "8bdf72f8-2a37-4633-a49b-1d5b80f3f619",
   "metadata": {},
   "source": [
    "50. Merge multiple sets into one.\n"
   ]
  },
  {
   "cell_type": "code",
   "execution_count": 199,
   "id": "f3ada40c-81f5-4857-8420-cf7c5624c73e",
   "metadata": {},
   "outputs": [
    {
     "name": "stdout",
     "output_type": "stream",
     "text": [
      "{1, 2, 3, 4, 5}\n"
     ]
    }
   ],
   "source": [
    "s1 = {1,2,3}\n",
    "s2 = {3,4,5}\n",
    "s3 = {1,3,5}\n",
    "\n",
    "result = s1.union(s2,s3)\n",
    "print(result)"
   ]
  },
  {
   "cell_type": "code",
   "execution_count": null,
   "id": "9faf5e41-003d-44b4-b7ac-b0e987b63820",
   "metadata": {},
   "outputs": [],
   "source": []
  }
 ],
 "metadata": {
  "kernelspec": {
   "display_name": "Python 3 (ipykernel)",
   "language": "python",
   "name": "python3"
  },
  "language_info": {
   "codemirror_mode": {
    "name": "ipython",
    "version": 3
   },
   "file_extension": ".py",
   "mimetype": "text/x-python",
   "name": "python",
   "nbconvert_exporter": "python",
   "pygments_lexer": "ipython3",
   "version": "3.10.8"
  }
 },
 "nbformat": 4,
 "nbformat_minor": 5
}
